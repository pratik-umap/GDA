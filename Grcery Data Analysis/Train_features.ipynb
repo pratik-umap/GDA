{
 "cells": [
  {
   "cell_type": "code",
   "execution_count": 1,
   "metadata": {
    "id": "xLfRpaeaZBtH"
   },
   "outputs": [],
   "source": [
    "import pandas as pd\n",
    "import numpy as np\n",
    "import gc\n",
    "import spacy\n",
    "from tqdm import tqdm\n",
    "import matplotlib.pyplot as plt\n",
    "import sys\n",
    "import pickle"
   ]
  },
  {
   "cell_type": "code",
   "execution_count": 2,
   "metadata": {
    "id": "561xTTfpZgB3"
   },
   "outputs": [],
   "source": [
    "order_prior = pd.read_csv(\"data/order_products__prior.csv\")\n",
    "order_train = pd.read_csv('data/order_products__train.csv')\n",
    "orders      = pd.read_csv(\"data/orders.csv\")"
   ]
  },
  {
   "cell_type": "code",
   "execution_count": 3,
   "metadata": {
    "colab": {
     "base_uri": "https://localhost:8080/",
     "height": 204
    },
    "id": "8dpBTHrAZhcC",
    "outputId": "70fa84f8-0284-4f82-9b0f-8ea7f4f0bb37"
   },
   "outputs": [
    {
     "data": {
      "text/html": [
       "<div>\n",
       "<style scoped>\n",
       "    .dataframe tbody tr th:only-of-type {\n",
       "        vertical-align: middle;\n",
       "    }\n",
       "\n",
       "    .dataframe tbody tr th {\n",
       "        vertical-align: top;\n",
       "    }\n",
       "\n",
       "    .dataframe thead th {\n",
       "        text-align: right;\n",
       "    }\n",
       "</style>\n",
       "<table border=\"1\" class=\"dataframe\">\n",
       "  <thead>\n",
       "    <tr style=\"text-align: right;\">\n",
       "      <th></th>\n",
       "      <th>order_id</th>\n",
       "      <th>product_id</th>\n",
       "      <th>add_to_cart_order</th>\n",
       "      <th>reordered</th>\n",
       "    </tr>\n",
       "  </thead>\n",
       "  <tbody>\n",
       "    <tr>\n",
       "      <th>0</th>\n",
       "      <td>6</td>\n",
       "      <td>None</td>\n",
       "      <td>0</td>\n",
       "      <td>1</td>\n",
       "    </tr>\n",
       "    <tr>\n",
       "      <th>1</th>\n",
       "      <td>7</td>\n",
       "      <td>None</td>\n",
       "      <td>0</td>\n",
       "      <td>1</td>\n",
       "    </tr>\n",
       "    <tr>\n",
       "      <th>2</th>\n",
       "      <td>13</td>\n",
       "      <td>None</td>\n",
       "      <td>0</td>\n",
       "      <td>1</td>\n",
       "    </tr>\n",
       "    <tr>\n",
       "      <th>3</th>\n",
       "      <td>20</td>\n",
       "      <td>None</td>\n",
       "      <td>0</td>\n",
       "      <td>1</td>\n",
       "    </tr>\n",
       "    <tr>\n",
       "      <th>4</th>\n",
       "      <td>24</td>\n",
       "      <td>None</td>\n",
       "      <td>0</td>\n",
       "      <td>1</td>\n",
       "    </tr>\n",
       "  </tbody>\n",
       "</table>\n",
       "</div>"
      ],
      "text/plain": [
       "   order_id product_id  add_to_cart_order  reordered\n",
       "0         6       None                  0          1\n",
       "1         7       None                  0          1\n",
       "2        13       None                  0          1\n",
       "3        20       None                  0          1\n",
       "4        24       None                  0          1"
      ]
     },
     "execution_count": 3,
     "metadata": {},
     "output_type": "execute_result"
    }
   ],
   "source": [
    "temp = order_prior[[\"order_id\",'reordered']].groupby('order_id').agg('sum')\n",
    "\n",
    "none_prior=pd.DataFrame({'order_id':temp[temp.reordered==0].index,'product_id':'None','add_to_cart_order':0,'reordered':1})\n",
    "none_prior.head()"
   ]
  },
  {
   "cell_type": "code",
   "execution_count": 4,
   "metadata": {
    "colab": {
     "base_uri": "https://localhost:8080/",
     "height": 204
    },
    "id": "xzzJHFPeZi4H",
    "outputId": "11086605-5e5d-44b4-b9f6-81315320c614"
   },
   "outputs": [
    {
     "data": {
      "text/html": [
       "<div>\n",
       "<style scoped>\n",
       "    .dataframe tbody tr th:only-of-type {\n",
       "        vertical-align: middle;\n",
       "    }\n",
       "\n",
       "    .dataframe tbody tr th {\n",
       "        vertical-align: top;\n",
       "    }\n",
       "\n",
       "    .dataframe thead th {\n",
       "        text-align: right;\n",
       "    }\n",
       "</style>\n",
       "<table border=\"1\" class=\"dataframe\">\n",
       "  <thead>\n",
       "    <tr style=\"text-align: right;\">\n",
       "      <th></th>\n",
       "      <th>order_id</th>\n",
       "      <th>product_id</th>\n",
       "      <th>add_to_cart_order</th>\n",
       "      <th>reordered</th>\n",
       "    </tr>\n",
       "  </thead>\n",
       "  <tbody>\n",
       "    <tr>\n",
       "      <th>0</th>\n",
       "      <td>719</td>\n",
       "      <td>None</td>\n",
       "      <td>0</td>\n",
       "      <td>1</td>\n",
       "    </tr>\n",
       "    <tr>\n",
       "      <th>1</th>\n",
       "      <td>904</td>\n",
       "      <td>None</td>\n",
       "      <td>0</td>\n",
       "      <td>1</td>\n",
       "    </tr>\n",
       "    <tr>\n",
       "      <th>2</th>\n",
       "      <td>1571</td>\n",
       "      <td>None</td>\n",
       "      <td>0</td>\n",
       "      <td>1</td>\n",
       "    </tr>\n",
       "    <tr>\n",
       "      <th>3</th>\n",
       "      <td>2711</td>\n",
       "      <td>None</td>\n",
       "      <td>0</td>\n",
       "      <td>1</td>\n",
       "    </tr>\n",
       "    <tr>\n",
       "      <th>4</th>\n",
       "      <td>3227</td>\n",
       "      <td>None</td>\n",
       "      <td>0</td>\n",
       "      <td>1</td>\n",
       "    </tr>\n",
       "  </tbody>\n",
       "</table>\n",
       "</div>"
      ],
      "text/plain": [
       "   order_id product_id  add_to_cart_order  reordered\n",
       "0       719       None                  0          1\n",
       "1       904       None                  0          1\n",
       "2      1571       None                  0          1\n",
       "3      2711       None                  0          1\n",
       "4      3227       None                  0          1"
      ]
     },
     "execution_count": 4,
     "metadata": {},
     "output_type": "execute_result"
    }
   ],
   "source": [
    "temp = order_train[[\"order_id\",'reordered']].groupby('order_id').agg('sum')\n",
    "\n",
    "none_train=pd.DataFrame({'order_id':temp[temp.reordered==0].index,'product_id':'None','add_to_cart_order':0,'reordered':1})\n",
    "del temp\n",
    "none_train.head()"
   ]
  },
  {
   "cell_type": "code",
   "execution_count": 5,
   "metadata": {
    "colab": {
     "base_uri": "https://localhost:8080/",
     "height": 204
    },
    "id": "13Bs2sYkZkda",
    "outputId": "4d555c7b-6435-4c58-ba4d-8e68bfb3b2a9"
   },
   "outputs": [
    {
     "data": {
      "text/html": [
       "<div>\n",
       "<style scoped>\n",
       "    .dataframe tbody tr th:only-of-type {\n",
       "        vertical-align: middle;\n",
       "    }\n",
       "\n",
       "    .dataframe tbody tr th {\n",
       "        vertical-align: top;\n",
       "    }\n",
       "\n",
       "    .dataframe thead th {\n",
       "        text-align: right;\n",
       "    }\n",
       "</style>\n",
       "<table border=\"1\" class=\"dataframe\">\n",
       "  <thead>\n",
       "    <tr style=\"text-align: right;\">\n",
       "      <th></th>\n",
       "      <th>order_id</th>\n",
       "      <th>product_id</th>\n",
       "      <th>reordered</th>\n",
       "    </tr>\n",
       "  </thead>\n",
       "  <tbody>\n",
       "    <tr>\n",
       "      <th>0</th>\n",
       "      <td>2</td>\n",
       "      <td>33120</td>\n",
       "      <td>1</td>\n",
       "    </tr>\n",
       "    <tr>\n",
       "      <th>1</th>\n",
       "      <td>2</td>\n",
       "      <td>28985</td>\n",
       "      <td>1</td>\n",
       "    </tr>\n",
       "    <tr>\n",
       "      <th>2</th>\n",
       "      <td>2</td>\n",
       "      <td>9327</td>\n",
       "      <td>0</td>\n",
       "    </tr>\n",
       "    <tr>\n",
       "      <th>3</th>\n",
       "      <td>2</td>\n",
       "      <td>45918</td>\n",
       "      <td>1</td>\n",
       "    </tr>\n",
       "    <tr>\n",
       "      <th>4</th>\n",
       "      <td>2</td>\n",
       "      <td>30035</td>\n",
       "      <td>0</td>\n",
       "    </tr>\n",
       "  </tbody>\n",
       "</table>\n",
       "</div>"
      ],
      "text/plain": [
       "   order_id product_id  reordered\n",
       "0         2      33120          1\n",
       "1         2      28985          1\n",
       "2         2       9327          0\n",
       "3         2      45918          1\n",
       "4         2      30035          0"
      ]
     },
     "execution_count": 5,
     "metadata": {},
     "output_type": "execute_result"
    }
   ],
   "source": [
    "prior_data = pd.concat([order_prior.drop(['add_to_cart_order'],axis=1),none_prior.drop(['add_to_cart_order'],axis=1)])\n",
    "\n",
    "prior_data.head()"
   ]
  },
  {
   "cell_type": "code",
   "execution_count": 6,
   "metadata": {
    "colab": {
     "base_uri": "https://localhost:8080/",
     "height": 204
    },
    "id": "1ULgAlo2ZmKQ",
    "outputId": "572ada16-ffb0-4168-82f9-7f6c6422ac45"
   },
   "outputs": [
    {
     "data": {
      "text/html": [
       "<div>\n",
       "<style scoped>\n",
       "    .dataframe tbody tr th:only-of-type {\n",
       "        vertical-align: middle;\n",
       "    }\n",
       "\n",
       "    .dataframe tbody tr th {\n",
       "        vertical-align: top;\n",
       "    }\n",
       "\n",
       "    .dataframe thead th {\n",
       "        text-align: right;\n",
       "    }\n",
       "</style>\n",
       "<table border=\"1\" class=\"dataframe\">\n",
       "  <thead>\n",
       "    <tr style=\"text-align: right;\">\n",
       "      <th></th>\n",
       "      <th>order_id</th>\n",
       "      <th>product_id</th>\n",
       "      <th>reordered</th>\n",
       "    </tr>\n",
       "  </thead>\n",
       "  <tbody>\n",
       "    <tr>\n",
       "      <th>0</th>\n",
       "      <td>1</td>\n",
       "      <td>49302</td>\n",
       "      <td>1</td>\n",
       "    </tr>\n",
       "    <tr>\n",
       "      <th>1</th>\n",
       "      <td>1</td>\n",
       "      <td>11109</td>\n",
       "      <td>1</td>\n",
       "    </tr>\n",
       "    <tr>\n",
       "      <th>2</th>\n",
       "      <td>1</td>\n",
       "      <td>10246</td>\n",
       "      <td>0</td>\n",
       "    </tr>\n",
       "    <tr>\n",
       "      <th>3</th>\n",
       "      <td>1</td>\n",
       "      <td>49683</td>\n",
       "      <td>0</td>\n",
       "    </tr>\n",
       "    <tr>\n",
       "      <th>4</th>\n",
       "      <td>1</td>\n",
       "      <td>43633</td>\n",
       "      <td>1</td>\n",
       "    </tr>\n",
       "  </tbody>\n",
       "</table>\n",
       "</div>"
      ],
      "text/plain": [
       "   order_id product_id  reordered\n",
       "0         1      49302          1\n",
       "1         1      11109          1\n",
       "2         1      10246          0\n",
       "3         1      49683          0\n",
       "4         1      43633          1"
      ]
     },
     "execution_count": 6,
     "metadata": {},
     "output_type": "execute_result"
    }
   ],
   "source": [
    "train_data = pd.concat([order_train.drop(['add_to_cart_order'],axis=1),none_train.drop(['add_to_cart_order'],axis=1)])\n",
    "train_data.head()"
   ]
  },
  {
   "cell_type": "code",
   "execution_count": 7,
   "metadata": {
    "id": "Cl4smgveZo82"
   },
   "outputs": [],
   "source": [
    "train_data = train_data.merge(orders,on='order_id',how='left').fillna(0)"
   ]
  },
  {
   "cell_type": "code",
   "execution_count": 8,
   "metadata": {},
   "outputs": [
    {
     "data": {
      "text/plain": [
       "0"
      ]
     },
     "execution_count": 8,
     "metadata": {},
     "output_type": "execute_result"
    }
   ],
   "source": [
    "del none_prior,none_train,order_prior,order_train\n",
    "gc.collect()"
   ]
  },
  {
   "cell_type": "code",
   "execution_count": 9,
   "metadata": {},
   "outputs": [],
   "source": [
    "def reduce_mem_usage(train_data):\n",
    "    start_mem = train_data.memory_usage().sum() / 1024**2\n",
    "    print('Memory usage of dataframe is {:.2f} MB'.format(start_mem))\n",
    "\n",
    "    for col in train_data.columns:\n",
    "        col_type = train_data[col].dtype\n",
    "        \n",
    "        if col_type not in [object, 'category']:\n",
    "            c_min = train_data[col].min()\n",
    "            c_max = train_data[col].max()\n",
    "            if str(col_type)[:3] == 'int':\n",
    "                if c_min > np.iinfo(np.int8).min and c_max < np.iinfo(np.int8).max:\n",
    "                    train_data[col] = train_data[col].astype(np.int8)\n",
    "                elif c_min > np.iinfo(np.int16).min and c_max < np.iinfo(np.int16).max:\n",
    "                    train_data[col] = train_data[col].astype(np.int16)\n",
    "                elif c_min > np.iinfo(np.int32).min and c_max < np.iinfo(np.int32).max:\n",
    "                    train_data[col] = train_data[col].astype(np.int32)\n",
    "                elif c_min > np.iinfo(np.int64).min and c_max < np.iinfo(np.int64).max:\n",
    "                    train_data[col] = train_data[col].astype(np.int64)  \n",
    "            else:\n",
    "                if c_min > np.finfo(np.float16).min and c_max < np.finfo(np.float16).max:\n",
    "                    train_data[col] = train_data[col].astype(np.float16)\n",
    "                elif c_min > np.finfo(np.float32).min and c_max < np.finfo(np.float32).max:\n",
    "                    train_data[col] = train_data[col].astype(np.float32)\n",
    "                else:\n",
    "                    train_data[col] = train_data[col].astype(np.float64)\n",
    "        else:\n",
    "            train_data[col] = train_data[col].astype('category')\n",
    "    end_mem = train_data.memory_usage().sum() / 1024**2\n",
    "    print('Memory usage after optimization is: {:.2f} MB'.format(end_mem))\n",
    "    print('Decreased by {:.1f}%'.format(100 * (start_mem - end_mem) / start_mem))\n",
    "\n",
    "    return train_data\n",
    "\n",
    "# Annotate text on graph\n",
    "def annotate_text(p, append_to_text='%'):\n",
    "    for p in ax.patches:\n",
    "        txt = str(p.get_height().round(2)) + append_to_text\n",
    "        txt_x = p.get_x() + p.get_width()/2.\n",
    "        txt_y = 0.92*p.get_height()\n",
    "        ax.text(txt_x,txt_y,txt, fontsize=20, color='#004235', ha='center', va='bottom')"
   ]
  },
  {
   "cell_type": "code",
   "execution_count": 10,
   "metadata": {
    "colab": {
     "base_uri": "https://localhost:8080/"
    },
    "id": "ZOMGFFHgZrtg",
    "outputId": "d9d96487-8f9b-4f87-cef7-da92588b6c3a"
   },
   "outputs": [
    {
     "name": "stdout",
     "output_type": "stream",
     "text": [
      "Memory usage of dataframe is 309.31 MB\n",
      "Memory usage after optimization is: 207.60 MB\n",
      "Decreased by 32.9%\n",
      "Total null values 0\n",
      "The shape of the train_data (13514162, 2)\n"
     ]
    }
   ],
   "source": [
    "prior_ = prior_data.merge(orders[['user_id','order_id','eval_set']],on='order_id',how='left')\n",
    "prior_.drop(['order_id','reordered','eval_set'],axis=1,inplace=True)\n",
    "prior_ = prior_.drop_duplicates()\n",
    "prior_ = reduce_mem_usage(prior_)\n",
    "print(\"Total null values\",prior_.isnull().any().sum().sum())\n",
    "print(\"The shape of the train_data {}\".format(prior_.shape))"
   ]
  },
  {
   "cell_type": "code",
   "execution_count": 11,
   "metadata": {
    "id": "asZBumALZw8o"
   },
   "outputs": [
    {
     "name": "stdout",
     "output_type": "stream",
     "text": [
      "Memory usage of dataframe is 460.99 MB\n",
      "Memory usage after optimization is: 206.57 MB\n",
      "Decreased by 55.2%\n"
     ]
    }
   ],
   "source": [
    "train_feat = prior_.merge(train_data[['user_id','order_id','order_number','order_dow','order_hour_of_day'\n",
    "                                      ,'days_since_prior_order']]\n",
    "             ,on='user_id').drop_duplicates()\n",
    "train_feat = reduce_mem_usage(train_feat)"
   ]
  },
  {
   "cell_type": "code",
   "execution_count": 12,
   "metadata": {},
   "outputs": [
    {
     "data": {
      "text/plain": [
       "0"
      ]
     },
     "execution_count": 12,
     "metadata": {},
     "output_type": "execute_result"
    }
   ],
   "source": [
    "del prior_,orders\n",
    "gc.collect()"
   ]
  },
  {
   "cell_type": "code",
   "execution_count": 13,
   "metadata": {},
   "outputs": [
    {
     "data": {
      "text/plain": [
       "217992007"
      ]
     },
     "execution_count": 13,
     "metadata": {},
     "output_type": "execute_result"
    }
   ],
   "source": [
    "sys.getsizeof(train_feat)"
   ]
  },
  {
   "cell_type": "code",
   "execution_count": 14,
   "metadata": {},
   "outputs": [],
   "source": [
    "train_feat.user_id = train_feat.user_id.astype(np.int32)\n",
    "train_feat.order_id = train_feat.order_id.astype(np.int32)\n",
    "train_feat.order_number = train_feat.order_number.astype(np.int8)\n",
    "train_feat.order_dow = train_feat.order_dow.astype(np.int8)\n",
    "train_feat.order_hour_of_day = train_feat.order_hour_of_day.astype(np.int8)\n",
    "train_feat.days_since_prior_order = train_feat.days_since_prior_order.astype(np.int8)"
   ]
  },
  {
   "cell_type": "code",
   "execution_count": 15,
   "metadata": {},
   "outputs": [
    {
     "data": {
      "text/plain": [
       "209386137"
      ]
     },
     "execution_count": 15,
     "metadata": {},
     "output_type": "execute_result"
    }
   ],
   "source": [
    "sys.getsizeof(train_feat)"
   ]
  },
  {
   "cell_type": "code",
   "execution_count": 16,
   "metadata": {
    "id": "WVU4BO34bidX"
   },
   "outputs": [],
   "source": [
    "train_feat = train_feat.merge(train_data[['order_id','product_id','reordered']],on=['order_id','product_id'],how='left')\n",
    "train_feat.reordered = train_feat.reordered.fillna(0)"
   ]
  },
  {
   "cell_type": "code",
   "execution_count": 17,
   "metadata": {
    "id": "cxzkB8Gsd5Yg"
   },
   "outputs": [],
   "source": [
    "train_feat.reordered = train_feat.reordered.astype(np.int8)"
   ]
  },
  {
   "cell_type": "code",
   "execution_count": 18,
   "metadata": {
    "colab": {
     "base_uri": "https://localhost:8080/"
    },
    "id": "ttg2bIhad5Uc",
    "outputId": "51a3aa71-0b72-49a8-cefa-07888da15699"
   },
   "outputs": [
    {
     "data": {
      "text/plain": [
       "493814831"
      ]
     },
     "execution_count": 18,
     "metadata": {},
     "output_type": "execute_result"
    }
   ],
   "source": [
    "sys.getsizeof(train_feat)"
   ]
  },
  {
   "cell_type": "code",
   "execution_count": 19,
   "metadata": {
    "id": "RG44GTwjZ6Cz"
   },
   "outputs": [],
   "source": [
    "pickle.dump(train_feat,open('train_features_nofeat.pkl','wb'))"
   ]
  },
  {
   "cell_type": "markdown",
   "metadata": {
    "id": "xUsNhCPZfXnR"
   },
   "source": [
    "## Loading file"
   ]
  },
  {
   "cell_type": "code",
   "execution_count": 20,
   "metadata": {},
   "outputs": [
    {
     "name": "stdout",
     "output_type": "stream",
     "text": [
      "(8605870, 8)\n",
      "Memory usage of dataframe is 238.01 MB\n",
      "Memory usage after optimization is: 206.57 MB\n",
      "Decreased by 13.2%\n"
     ]
    },
    {
     "data": {
      "text/html": [
       "<div>\n",
       "<style scoped>\n",
       "    .dataframe tbody tr th:only-of-type {\n",
       "        vertical-align: middle;\n",
       "    }\n",
       "\n",
       "    .dataframe tbody tr th {\n",
       "        vertical-align: top;\n",
       "    }\n",
       "\n",
       "    .dataframe thead th {\n",
       "        text-align: right;\n",
       "    }\n",
       "</style>\n",
       "<table border=\"1\" class=\"dataframe\">\n",
       "  <thead>\n",
       "    <tr style=\"text-align: right;\">\n",
       "      <th></th>\n",
       "      <th>product_id</th>\n",
       "      <th>user_id</th>\n",
       "      <th>order_id</th>\n",
       "      <th>order_number</th>\n",
       "      <th>order_dow</th>\n",
       "      <th>order_hour_of_day</th>\n",
       "      <th>days_since_prior_order</th>\n",
       "      <th>reordered</th>\n",
       "    </tr>\n",
       "  </thead>\n",
       "  <tbody>\n",
       "    <tr>\n",
       "      <th>0</th>\n",
       "      <td>33120</td>\n",
       "      <td>202279</td>\n",
       "      <td>1050357</td>\n",
       "      <td>9</td>\n",
       "      <td>1</td>\n",
       "      <td>14</td>\n",
       "      <td>30</td>\n",
       "      <td>1</td>\n",
       "    </tr>\n",
       "    <tr>\n",
       "      <th>1</th>\n",
       "      <td>28985</td>\n",
       "      <td>202279</td>\n",
       "      <td>1050357</td>\n",
       "      <td>9</td>\n",
       "      <td>1</td>\n",
       "      <td>14</td>\n",
       "      <td>30</td>\n",
       "      <td>0</td>\n",
       "    </tr>\n",
       "    <tr>\n",
       "      <th>2</th>\n",
       "      <td>9327</td>\n",
       "      <td>202279</td>\n",
       "      <td>1050357</td>\n",
       "      <td>9</td>\n",
       "      <td>1</td>\n",
       "      <td>14</td>\n",
       "      <td>30</td>\n",
       "      <td>0</td>\n",
       "    </tr>\n",
       "    <tr>\n",
       "      <th>3</th>\n",
       "      <td>45918</td>\n",
       "      <td>202279</td>\n",
       "      <td>1050357</td>\n",
       "      <td>9</td>\n",
       "      <td>1</td>\n",
       "      <td>14</td>\n",
       "      <td>30</td>\n",
       "      <td>0</td>\n",
       "    </tr>\n",
       "    <tr>\n",
       "      <th>4</th>\n",
       "      <td>30035</td>\n",
       "      <td>202279</td>\n",
       "      <td>1050357</td>\n",
       "      <td>9</td>\n",
       "      <td>1</td>\n",
       "      <td>14</td>\n",
       "      <td>30</td>\n",
       "      <td>0</td>\n",
       "    </tr>\n",
       "  </tbody>\n",
       "</table>\n",
       "</div>"
      ],
      "text/plain": [
       "  product_id  user_id  order_id  order_number  order_dow  order_hour_of_day  \\\n",
       "0      33120   202279   1050357             9          1                 14   \n",
       "1      28985   202279   1050357             9          1                 14   \n",
       "2       9327   202279   1050357             9          1                 14   \n",
       "3      45918   202279   1050357             9          1                 14   \n",
       "4      30035   202279   1050357             9          1                 14   \n",
       "\n",
       "   days_since_prior_order  reordered  \n",
       "0                      30          1  \n",
       "1                      30          0  \n",
       "2                      30          0  \n",
       "3                      30          0  \n",
       "4                      30          0  "
      ]
     },
     "execution_count": 20,
     "metadata": {},
     "output_type": "execute_result"
    }
   ],
   "source": [
    "train_data = pickle.load(open('train_features_nofeat.pkl','rb'))\n",
    "print(train_data.shape)\n",
    "train_data = reduce_mem_usage(train_data)\n",
    "train_data.head()"
   ]
  },
  {
   "cell_type": "markdown",
   "metadata": {},
   "source": [
    "## Merging features "
   ]
  },
  {
   "cell_type": "code",
   "execution_count": 21,
   "metadata": {},
   "outputs": [
    {
     "data": {
      "image/png": "[encoded data removed]",
      "text/plain": [
       "<Figure size 700x700 with 3 Axes>"
      ]
     },
     "metadata": {},
     "output_type": "display_data"
    }
   ],
   "source": [
    "#https://www.kaggle.com/avanwyk/encoding-cyclical-features-for-deep-learning\n",
    "#https://towardsdatascience.com/cyclical-features-encoding-its-about-time-ce23581845ca\n",
    "#http://blog.davidkaleko.com/feature-engineering-cyclical-features.html\n",
    "left  = 0.125  # the left side of the subplots of the figure\n",
    "right = 1.5    # the right side of the subplots of the figure\n",
    "bottom = 0.5   # the bottom of the subplots of the figure\n",
    "top = 0.9      # the top of the subplots of the figure\n",
    "wspace = 0.2   # the amount of width reserved for blank space between subplots\n",
    "hspace = 3    # the amount of height reserved for white space between subplots\n",
    "\n",
    "plt.figure(figsize=(7,7))\n",
    "plt.subplot(1,3,1)\n",
    "plt.subplots_adjust(left, bottom, right, top, wspace, hspace)\n",
    "plt.plot(np.sort(train_data.order_hour_of_day.unique()))\n",
    "plt.title(\"Before cyclic conversion\")\n",
    "\n",
    "plt.subplot(1,3,2)\n",
    "plt.subplots_adjust(left, bottom, right, top, wspace, hspace)\n",
    "plt.plot(np.sin(2*np.pi*np.sort(train_data.order_hour_of_day.unique())/24))\n",
    "plt.title(\"cyclic conversion with sin\")\n",
    "\n",
    "plt.subplot(1,3,3)\n",
    "plt.subplots_adjust(left, bottom, right, top, wspace, hspace)\n",
    "plt.plot(np.cos(2*np.pi*np.sort(train_data.order_hour_of_day.unique())/24))\n",
    "plt.title(\"cyclic conversion with sin\")\n",
    "plt.show()"
   ]
  },
  {
   "cell_type": "code",
   "execution_count": 22,
   "metadata": {},
   "outputs": [],
   "source": [
    "train_data['cos_cyclic_hour'] = np.cos((2*np.pi*train_data.order_hour_of_day)/24).astype(np.float16)\n",
    "train_data['sin_cyclic_hour'] = np.sin((2*np.pi*train_data.order_hour_of_day)/24).astype(np.float16)\n",
    "train_data['cos_cyclic_day']  = np.cos((2*np.pi*train_data.order_dow)/7).astype(np.float32)\n",
    "train_data['sin_cyclic_day']  = np.sin((2*np.pi*train_data.order_dow)/7).astype(np.float32)"
   ]
  },
  {
   "cell_type": "code",
   "execution_count": 23,
   "metadata": {},
   "outputs": [],
   "source": [
    "day_prior_ratio = pickle.load(open('day_prior_ratio.pkl','rb'))\n",
    "hour_ratio      = pickle.load(open('hour_of_week.pkl','rb'))\n",
    "day_week_ratio  = pickle.load(open('day_of_week.pkl','rb'))\n",
    "user_product    = pickle.load(open('user_product_ratio.pkl','rb'))\n",
    "product_day_week_ratio  = pickle.load(open('product_day_week_ratio.pkl','rb'))\n",
    "product_hour_ratio=pickle.load(open('product_hour_ratio.pkl','rb'))\n",
    "user_day_ratio  = pickle.load(open('user_day_ratio.pkl','rb'))  \n",
    "user_hour_ratio = pickle.load(open('user_hour_ratio.pkl','rb'))\n",
    "user_since_product = pickle.load(open('user_since_product.pkl','rb'))\n",
    "user_times_product = pickle.load(open('user_times_product.pkl','rb'))"
   ]
  },
  {
   "cell_type": "code",
   "execution_count": 24,
   "metadata": {},
   "outputs": [],
   "source": [
    "train_data = train_data.merge(day_prior_ratio,on='days_since_prior_order')"
   ]
  },
  {
   "cell_type": "code",
   "execution_count": 25,
   "metadata": {},
   "outputs": [],
   "source": [
    "train_data = train_data.merge(hour_ratio,on='order_hour_of_day')"
   ]
  },
  {
   "cell_type": "code",
   "execution_count": 26,
   "metadata": {},
   "outputs": [],
   "source": [
    "train_data = train_data.merge(product_hour_ratio,on=['product_id','order_hour_of_day'],how='left')"
   ]
  },
  {
   "cell_type": "code",
   "execution_count": 27,
   "metadata": {},
   "outputs": [],
   "source": [
    "train_data = train_data.merge(day_week_ratio,on='order_dow')"
   ]
  },
  {
   "cell_type": "code",
   "execution_count": 28,
   "metadata": {},
   "outputs": [],
   "source": [
    "train_data = train_data.merge(product_day_week_ratio,on=['product_id','order_dow'],how='left')"
   ]
  },
  {
   "cell_type": "code",
   "execution_count": 29,
   "metadata": {},
   "outputs": [],
   "source": [
    "train_data = train_data.merge(user_product,on=['user_id','product_id'],how='left').fillna(0)"
   ]
  },
  {
   "cell_type": "code",
   "execution_count": 30,
   "metadata": {},
   "outputs": [],
   "source": [
    "train_data = train_data.merge(user_day_ratio,on=['user_id','order_dow'],how='left')"
   ]
  },
  {
   "cell_type": "code",
   "execution_count": 31,
   "metadata": {},
   "outputs": [],
   "source": [
    "train_data = train_data.merge(user_hour_ratio,on=['user_id','order_hour_of_day'],how='left')"
   ]
  },
  {
   "cell_type": "code",
   "execution_count": 32,
   "metadata": {},
   "outputs": [],
   "source": [
    "train_data = train_data.merge(user_since_product,on=['user_id','product_id'],how='left')"
   ]
  },
  {
   "cell_type": "code",
   "execution_count": 33,
   "metadata": {},
   "outputs": [],
   "source": [
    "train_data = train_data.merge(user_times_product,on=['user_id','product_id'],how='left')"
   ]
  },
  {
   "cell_type": "code",
   "execution_count": 34,
   "metadata": {},
   "outputs": [
    {
     "data": {
      "text/plain": [
       "(8605870, 22)"
      ]
     },
     "execution_count": 34,
     "metadata": {},
     "output_type": "execute_result"
    }
   ],
   "source": [
    "train_data.shape"
   ]
  },
  {
   "cell_type": "code",
   "execution_count": 35,
   "metadata": {},
   "outputs": [],
   "source": [
    "train_data = train_data.fillna(0)"
   ]
  },
  {
   "cell_type": "code",
   "execution_count": 36,
   "metadata": {},
   "outputs": [
    {
     "name": "stderr",
     "output_type": "stream",
     "text": [
      "100%|█████████████████████████████████████████████████████████████████████| 8605870/8605870 [08:44<00:00, 16398.27it/s]\n"
     ]
    }
   ],
   "source": [
    "pro_pro = []\n",
    "for i in tqdm(range(len(train_data))):\n",
    "    if train_data.loc[i,'since_order_product']==0:\n",
    "        pro_pro.append(train_data.loc[i,'days_since_prior_order'])\n",
    "    else:\n",
    "        pro_pro.append(train_data.loc[i,'since_order_product'])"
   ]
  },
  {
   "cell_type": "code",
   "execution_count": 37,
   "metadata": {},
   "outputs": [],
   "source": [
    "train_data['pro_pro'] = pro_pro"
   ]
  },
  {
   "cell_type": "markdown",
   "metadata": {},
   "source": [
    "-> These weighted features are referenced from https://github.com/alexanderrich/instacart-analysis/blob/master/preprocess.py"
   ]
  },
  {
   "cell_type": "code",
   "execution_count": 38,
   "metadata": {},
   "outputs": [],
   "source": [
    "train_data['weight7days_sin_since_product'] = (1.01 + np.sin(2*np.pi*(train_data['pro_pro']/7)))/2\n",
    "train_data['weight7days_cos_since_product'] = (1.01 + np.cos(2*np.pi*(train_data['pro_pro']/7)))/2"
   ]
  },
  {
   "cell_type": "code",
   "execution_count": 39,
   "metadata": {},
   "outputs": [],
   "source": [
    "train_data['weight14days_sin_since_product'] = (1.01 + np.sin(2*np.pi*(train_data['pro_pro']/14)))/2\n",
    "train_data['weight14days_cos_since_product'] = (1.01 + np.cos(2*np.pi*(train_data['pro_pro']/14)))/2"
   ]
  },
  {
   "cell_type": "code",
   "execution_count": 40,
   "metadata": {},
   "outputs": [],
   "source": [
    "train_data['weight30days_sin_since_product'] = (1.01 + np.sin(2*np.pi*(train_data['pro_pro']/30)))/2\n",
    "train_data['weight30days_cos_since_product'] = (1.01 + np.cos(2*np.pi*(train_data['pro_pro']/30)))/2"
   ]
  },
  {
   "cell_type": "code",
   "execution_count": 41,
   "metadata": {},
   "outputs": [
    {
     "data": {
      "text/plain": [
       "product_id                        0\n",
       "user_id                           0\n",
       "order_id                          0\n",
       "order_number                      0\n",
       "order_dow                         0\n",
       "order_hour_of_day                 0\n",
       "days_since_prior_order            0\n",
       "reordered                         0\n",
       "cos_cyclic_hour                   0\n",
       "sin_cyclic_hour                   0\n",
       "cos_cyclic_day                    0\n",
       "sin_cyclic_day                    0\n",
       "daypriorratio                     0\n",
       "hod_ratio                         0\n",
       "product_hour_ratio                0\n",
       "dow_ratio                         0\n",
       "product_day_ratio                 0\n",
       "user_product_ratio                0\n",
       "user_day_ratio                    0\n",
       "user_hour_ratio                   0\n",
       "since_order_product               0\n",
       "user_times_product                0\n",
       "pro_pro                           0\n",
       "weight7days_sin_since_product     0\n",
       "weight7days_cos_since_product     0\n",
       "weight14days_sin_since_product    0\n",
       "weight14days_cos_since_product    0\n",
       "weight30days_sin_since_product    0\n",
       "weight30days_cos_since_product    0\n",
       "dtype: int64"
      ]
     },
     "execution_count": 41,
     "metadata": {},
     "output_type": "execute_result"
    }
   ],
   "source": [
    "train_data.isna().sum()"
   ]
  },
  {
   "cell_type": "code",
   "execution_count": 42,
   "metadata": {},
   "outputs": [],
   "source": [
    "train_data.drop('pro_pro',axis=1,inplace=True)"
   ]
  },
  {
   "cell_type": "code",
   "execution_count": 43,
   "metadata": {},
   "outputs": [
    {
     "data": {
      "text/plain": [
       "(8605870, 28)"
      ]
     },
     "execution_count": 43,
     "metadata": {},
     "output_type": "execute_result"
    }
   ],
   "source": [
    "train_data.shape"
   ]
  },
  {
   "cell_type": "code",
   "execution_count": 44,
   "metadata": {},
   "outputs": [],
   "source": [
    "vectars = pickle.load(open('products_pca.pkl','rb'))"
   ]
  },
  {
   "cell_type": "code",
   "execution_count": 45,
   "metadata": {},
   "outputs": [],
   "source": [
    "col = ['pca'+str(i) for i in range(0,30)]\n",
    "vectars[col] = vectars[col].astype(np.float32)"
   ]
  },
  {
   "cell_type": "code",
   "execution_count": 46,
   "metadata": {},
   "outputs": [],
   "source": [
    "train_data = train_data.merge(vectars,on='product_id')"
   ]
  },
  {
   "cell_type": "code",
   "execution_count": 47,
   "metadata": {},
   "outputs": [
    {
     "data": {
      "text/plain": [
       "2731341031"
      ]
     },
     "execution_count": 47,
     "metadata": {},
     "output_type": "execute_result"
    }
   ],
   "source": [
    "sys.getsizeof(train_data)"
   ]
  },
  {
   "cell_type": "code",
   "execution_count": 48,
   "metadata": {},
   "outputs": [],
   "source": [
    "pickle.dump(train_data,open('train_features.pkl','wb'))"
   ]
  },
  {
   "cell_type": "code",
   "execution_count": 49,
   "metadata": {},
   "outputs": [
    {
     "data": {
      "text/plain": [
       "Index(['product_id', 'user_id', 'order_id', 'order_number', 'order_dow',\n",
       "       'order_hour_of_day', 'days_since_prior_order', 'reordered',\n",
       "       'cos_cyclic_hour', 'sin_cyclic_hour', 'cos_cyclic_day',\n",
       "       'sin_cyclic_day', 'daypriorratio', 'hod_ratio', 'product_hour_ratio',\n",
       "       'dow_ratio', 'product_day_ratio', 'user_product_ratio',\n",
       "       'user_day_ratio', 'user_hour_ratio', 'since_order_product',\n",
       "       'user_times_product', 'weight7days_sin_since_product',\n",
       "       'weight7days_cos_since_product', 'weight14days_sin_since_product',\n",
       "       'weight14days_cos_since_product', 'weight30days_sin_since_product',\n",
       "       'weight30days_cos_since_product', 'pca0', 'pca1', 'pca2', 'pca3',\n",
       "       'pca4', 'pca5', 'pca6', 'pca7', 'pca8', 'pca9', 'pca10', 'pca11',\n",
       "       'pca12', 'pca13', 'pca14', 'pca15', 'pca16', 'pca17', 'pca18', 'pca19',\n",
       "       'pca20', 'pca21', 'pca22', 'pca23', 'pca24', 'pca25', 'pca26', 'pca27',\n",
       "       'pca28', 'pca29'],\n",
       "      dtype='object')"
      ]
     },
     "execution_count": 49,
     "metadata": {},
     "output_type": "execute_result"
    }
   ],
   "source": [
    "train_data.columns"
   ]
  },
  {
   "cell_type": "code",
   "execution_count": null,
   "metadata": {},
   "outputs": [],
   "source": []
  }
 ],
 "metadata": {
  "accelerator": "GPU",
  "colab": {
   "collapsed_sections": [],
   "machine_shape": "hm",
   "name": "train_features.ipynb",
   "provenance": []
  },
  "kernelspec": {
   "display_name": "base",
   "language": "python",
   "name": "python3"
  },
  "language_info": {
   "codemirror_mode": {
    "name": "ipython",
    "version": 3
   },
   "file_extension": ".py",
   "mimetype": "text/x-python",
   "name": "python",
   "nbconvert_exporter": "python",
   "pygments_lexer": "ipython3",
   "version": "3.9.13"
  },
  "vscode": {
   "interpreter": {
    "hash": "ad2bdc8ecc057115af97d19610ffacc2b4e99fae6737bb82f5d7fb13d2f2c186"
   }
  }
 },
 "nbformat": 4,
 "nbformat_minor": 1
}
