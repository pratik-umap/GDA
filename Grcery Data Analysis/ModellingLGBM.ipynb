{
 "cells": [
  {
   "cell_type": "code",
   "execution_count": 1,
   "metadata": {
    "id": "JgFDNeu_43Kk"
   },
   "outputs": [],
   "source": [
    "import pandas as pd\n",
    "import matplotlib.pyplot as plt\n",
    "import pickle\n",
    "import random\n",
    "from lightgbm import LGBMClassifier\n",
    "from sklearn.model_selection import RandomizedSearchCV\n",
    "import warnings\n",
    "from sklearn.metrics import f1_score\n",
    "warnings.filterwarnings('ignore')\n",
    "from tqdm import tqdm\n",
    "import lightgbm as lgb\n",
    "import gc\n",
    "import datetime\n",
    "import time\n",
    "warnings.filterwarnings('ignore')"
   ]
  },
  {
   "cell_type": "code",
   "execution_count": 2,
   "metadata": {
    "id": "blZLE9vHKgp4"
   },
   "outputs": [],
   "source": [
    "train = pickle.load(open('train_features.pkl','rb'))"
   ]
  },
  {
   "cell_type": "code",
   "execution_count": 3,
   "metadata": {
    "colab": {
     "base_uri": "https://localhost:8080/",
     "height": 224
    },
    "id": "w8DhpGD-QeCO",
    "outputId": "92af4d55-e868-4476-d12d-3788e3ea6d53"
   },
   "outputs": [
    {
     "data": {
      "text/html": [
       "<div>\n",
       "<style scoped>\n",
       "    .dataframe tbody tr th:only-of-type {\n",
       "        vertical-align: middle;\n",
       "    }\n",
       "\n",
       "    .dataframe tbody tr th {\n",
       "        vertical-align: top;\n",
       "    }\n",
       "\n",
       "    .dataframe thead th {\n",
       "        text-align: right;\n",
       "    }\n",
       "</style>\n",
       "<table border=\"1\" class=\"dataframe\">\n",
       "  <thead>\n",
       "    <tr style=\"text-align: right;\">\n",
       "      <th></th>\n",
       "      <th>product_id</th>\n",
       "      <th>user_id</th>\n",
       "      <th>order_id</th>\n",
       "      <th>order_number</th>\n",
       "      <th>order_dow</th>\n",
       "      <th>order_hour_of_day</th>\n",
       "      <th>days_since_prior_order</th>\n",
       "      <th>reordered</th>\n",
       "      <th>cos_cyclic_hour</th>\n",
       "      <th>sin_cyclic_hour</th>\n",
       "      <th>...</th>\n",
       "      <th>pca20</th>\n",
       "      <th>pca21</th>\n",
       "      <th>pca22</th>\n",
       "      <th>pca23</th>\n",
       "      <th>pca24</th>\n",
       "      <th>pca25</th>\n",
       "      <th>pca26</th>\n",
       "      <th>pca27</th>\n",
       "      <th>pca28</th>\n",
       "      <th>pca29</th>\n",
       "    </tr>\n",
       "  </thead>\n",
       "  <tbody>\n",
       "    <tr>\n",
       "      <th>0</th>\n",
       "      <td>33120</td>\n",
       "      <td>202279</td>\n",
       "      <td>1050357</td>\n",
       "      <td>9</td>\n",
       "      <td>1</td>\n",
       "      <td>14</td>\n",
       "      <td>30</td>\n",
       "      <td>1</td>\n",
       "      <td>-0.866211</td>\n",
       "      <td>-0.5</td>\n",
       "      <td>...</td>\n",
       "      <td>0.05855</td>\n",
       "      <td>-0.241675</td>\n",
       "      <td>-0.104688</td>\n",
       "      <td>-0.025783</td>\n",
       "      <td>0.2425</td>\n",
       "      <td>0.331574</td>\n",
       "      <td>-0.260521</td>\n",
       "      <td>-0.076831</td>\n",
       "      <td>0.017537</td>\n",
       "      <td>-0.183978</td>\n",
       "    </tr>\n",
       "    <tr>\n",
       "      <th>1</th>\n",
       "      <td>33120</td>\n",
       "      <td>122042</td>\n",
       "      <td>1770556</td>\n",
       "      <td>11</td>\n",
       "      <td>1</td>\n",
       "      <td>14</td>\n",
       "      <td>30</td>\n",
       "      <td>0</td>\n",
       "      <td>-0.866211</td>\n",
       "      <td>-0.5</td>\n",
       "      <td>...</td>\n",
       "      <td>0.05855</td>\n",
       "      <td>-0.241675</td>\n",
       "      <td>-0.104688</td>\n",
       "      <td>-0.025783</td>\n",
       "      <td>0.2425</td>\n",
       "      <td>0.331574</td>\n",
       "      <td>-0.260521</td>\n",
       "      <td>-0.076831</td>\n",
       "      <td>0.017537</td>\n",
       "      <td>-0.183978</td>\n",
       "    </tr>\n",
       "    <tr>\n",
       "      <th>2</th>\n",
       "      <td>33120</td>\n",
       "      <td>197605</td>\n",
       "      <td>2093514</td>\n",
       "      <td>26</td>\n",
       "      <td>1</td>\n",
       "      <td>14</td>\n",
       "      <td>30</td>\n",
       "      <td>1</td>\n",
       "      <td>-0.866211</td>\n",
       "      <td>-0.5</td>\n",
       "      <td>...</td>\n",
       "      <td>0.05855</td>\n",
       "      <td>-0.241675</td>\n",
       "      <td>-0.104688</td>\n",
       "      <td>-0.025783</td>\n",
       "      <td>0.2425</td>\n",
       "      <td>0.331574</td>\n",
       "      <td>-0.260521</td>\n",
       "      <td>-0.076831</td>\n",
       "      <td>0.017537</td>\n",
       "      <td>-0.183978</td>\n",
       "    </tr>\n",
       "    <tr>\n",
       "      <th>3</th>\n",
       "      <td>33120</td>\n",
       "      <td>48533</td>\n",
       "      <td>1350816</td>\n",
       "      <td>11</td>\n",
       "      <td>1</td>\n",
       "      <td>14</td>\n",
       "      <td>30</td>\n",
       "      <td>0</td>\n",
       "      <td>-0.866211</td>\n",
       "      <td>-0.5</td>\n",
       "      <td>...</td>\n",
       "      <td>0.05855</td>\n",
       "      <td>-0.241675</td>\n",
       "      <td>-0.104688</td>\n",
       "      <td>-0.025783</td>\n",
       "      <td>0.2425</td>\n",
       "      <td>0.331574</td>\n",
       "      <td>-0.260521</td>\n",
       "      <td>-0.076831</td>\n",
       "      <td>0.017537</td>\n",
       "      <td>-0.183978</td>\n",
       "    </tr>\n",
       "    <tr>\n",
       "      <th>4</th>\n",
       "      <td>33120</td>\n",
       "      <td>7443</td>\n",
       "      <td>2049554</td>\n",
       "      <td>8</td>\n",
       "      <td>1</td>\n",
       "      <td>14</td>\n",
       "      <td>30</td>\n",
       "      <td>0</td>\n",
       "      <td>-0.866211</td>\n",
       "      <td>-0.5</td>\n",
       "      <td>...</td>\n",
       "      <td>0.05855</td>\n",
       "      <td>-0.241675</td>\n",
       "      <td>-0.104688</td>\n",
       "      <td>-0.025783</td>\n",
       "      <td>0.2425</td>\n",
       "      <td>0.331574</td>\n",
       "      <td>-0.260521</td>\n",
       "      <td>-0.076831</td>\n",
       "      <td>0.017537</td>\n",
       "      <td>-0.183978</td>\n",
       "    </tr>\n",
       "  </tbody>\n",
       "</table>\n",
       "<p>5 rows × 58 columns</p>\n",
       "</div>"
      ],
      "text/plain": [
       "  product_id  user_id  order_id  order_number  order_dow  order_hour_of_day  \\\n",
       "0      33120   202279   1050357             9          1                 14   \n",
       "1      33120   122042   1770556            11          1                 14   \n",
       "2      33120   197605   2093514            26          1                 14   \n",
       "3      33120    48533   1350816            11          1                 14   \n",
       "4      33120     7443   2049554             8          1                 14   \n",
       "\n",
       "   days_since_prior_order  reordered  cos_cyclic_hour  sin_cyclic_hour  ...  \\\n",
       "0                      30          1        -0.866211             -0.5  ...   \n",
       "1                      30          0        -0.866211             -0.5  ...   \n",
       "2                      30          1        -0.866211             -0.5  ...   \n",
       "3                      30          0        -0.866211             -0.5  ...   \n",
       "4                      30          0        -0.866211             -0.5  ...   \n",
       "\n",
       "     pca20     pca21     pca22     pca23   pca24     pca25     pca26  \\\n",
       "0  0.05855 -0.241675 -0.104688 -0.025783  0.2425  0.331574 -0.260521   \n",
       "1  0.05855 -0.241675 -0.104688 -0.025783  0.2425  0.331574 -0.260521   \n",
       "2  0.05855 -0.241675 -0.104688 -0.025783  0.2425  0.331574 -0.260521   \n",
       "3  0.05855 -0.241675 -0.104688 -0.025783  0.2425  0.331574 -0.260521   \n",
       "4  0.05855 -0.241675 -0.104688 -0.025783  0.2425  0.331574 -0.260521   \n",
       "\n",
       "      pca27     pca28     pca29  \n",
       "0 -0.076831  0.017537 -0.183978  \n",
       "1 -0.076831  0.017537 -0.183978  \n",
       "2 -0.076831  0.017537 -0.183978  \n",
       "3 -0.076831  0.017537 -0.183978  \n",
       "4 -0.076831  0.017537 -0.183978  \n",
       "\n",
       "[5 rows x 58 columns]"
      ]
     },
     "execution_count": 3,
     "metadata": {},
     "output_type": "execute_result"
    }
   ],
   "source": [
    "train.head()"
   ]
  },
  {
   "cell_type": "code",
   "execution_count": 4,
   "metadata": {
    "id": "lhT3AhaMQgnE"
   },
   "outputs": [],
   "source": [
    "X = train.drop(['product_id','order_id'],axis=1)"
   ]
  },
  {
   "cell_type": "code",
   "execution_count": 5,
   "metadata": {
    "colab": {
     "base_uri": "https://localhost:8080/"
    },
    "id": "Jz_X9SBlQlMd",
    "outputId": "bc43ae99-bc79-430d-a829-e8793ca82375"
   },
   "outputs": [
    {
     "data": {
      "text/plain": [
       "131209"
      ]
     },
     "execution_count": 5,
     "metadata": {},
     "output_type": "execute_result"
    }
   ],
   "source": [
    "train.user_id.nunique()"
   ]
  },
  {
   "cell_type": "code",
   "execution_count": 6,
   "metadata": {
    "colab": {
     "base_uri": "https://localhost:8080/"
    },
    "id": "v7JRaLcIQntW",
    "outputId": "ae37f96f-2791-4062-b48e-ad58e608bd73"
   },
   "outputs": [
    {
     "data": {
      "text/plain": [
       "[202279, 122042, 197605, 48533, 7443]"
      ]
     },
     "execution_count": 6,
     "metadata": {},
     "output_type": "execute_result"
    }
   ],
   "source": [
    "total_users = list(train.user_id.unique())\n",
    "total_users[:5]"
   ]
  },
  {
   "cell_type": "code",
   "execution_count": 7,
   "metadata": {
    "id": "EkqyBxXBQpp-"
   },
   "outputs": [],
   "source": [
    "random.shuffle(total_users)"
   ]
  },
  {
   "cell_type": "code",
   "execution_count": 8,
   "metadata": {
    "colab": {
     "base_uri": "https://localhost:8080/"
    },
    "id": "lbWw3ISwQrGT",
    "outputId": "0213ddee-d7b9-461d-efca-5972b88c58fb"
   },
   "outputs": [
    {
     "data": {
      "text/plain": [
       "[8999, 33512, 193417, 11726, 63218]"
      ]
     },
     "execution_count": 8,
     "metadata": {},
     "output_type": "execute_result"
    }
   ],
   "source": [
    "total_users[:5]"
   ]
  },
  {
   "cell_type": "code",
   "execution_count": 9,
   "metadata": {
    "id": "6CVtg-NOQz1U"
   },
   "outputs": [],
   "source": [
    "train_users = total_users[:101209]\n",
    "test_users  = total_users[101209:]"
   ]
  },
  {
   "cell_type": "code",
   "execution_count": 10,
   "metadata": {
    "colab": {
     "base_uri": "https://localhost:8080/"
    },
    "id": "hnO-Gfz0Q1Ww",
    "outputId": "f06a4f6e-2830-4fe8-a507-78cb463637f6"
   },
   "outputs": [
    {
     "data": {
      "text/plain": [
       "(101209, 30000, 131209)"
      ]
     },
     "execution_count": 10,
     "metadata": {},
     "output_type": "execute_result"
    }
   ],
   "source": [
    "len(train_users),len(test_users),len(total_users)"
   ]
  },
  {
   "cell_type": "code",
   "execution_count": 11,
   "metadata": {
    "colab": {
     "base_uri": "https://localhost:8080/"
    },
    "id": "CKYmjOvVQ2lS",
    "outputId": "1dc3b84b-1bc6-438f-dc6e-d37ba333b2d5"
   },
   "outputs": [
    {
     "data": {
      "text/plain": [
       "0    6003832\n",
       "1     647555\n",
       "Name: reordered, dtype: int64"
      ]
     },
     "execution_count": 11,
     "metadata": {},
     "output_type": "execute_result"
    }
   ],
   "source": [
    "X.set_index('user_id').loc[train_users,:]['reordered'].value_counts()"
   ]
  },
  {
   "cell_type": "code",
   "execution_count": null,
   "metadata": {
    "id": "VAC6qWiDQ31y"
   },
   "outputs": [],
   "source": [
    "X_train = X.set_index('user_id').loc[train_users,:]\n",
    "X_test  = X.set_index('user_id').loc[test_users,:]"
   ]
  },
  {
   "cell_type": "code",
   "execution_count": null,
   "metadata": {
    "id": "z9O85aXxQ8xu"
   },
   "outputs": [],
   "source": [
    "y_train = X_train.reordered\n",
    "y_test  = X_test.reordered\n",
    "X_train = X_train.drop(['reordered'],axis=1)\n",
    "X_test = X_test.drop(['reordered'],axis=1)"
   ]
  },
  {
   "cell_type": "code",
   "execution_count": null,
   "metadata": {
    "colab": {
     "base_uri": "https://localhost:8080/"
    },
    "id": "73OcorU4RABS",
    "outputId": "5dec8f04-8d65-4b14-d9ac-d5092f1d8ee5"
   },
   "outputs": [
    {
     "data": {
      "text/plain": [
       "((6632972, 54), (1972898, 54), (6632972,), (1972898,))"
      ]
     },
     "execution_count": 18,
     "metadata": {
      "tags": []
     },
     "output_type": "execute_result"
    }
   ],
   "source": [
    "X_train.shape,X_test.shape,y_train.shape,y_test.shape"
   ]
  },
  {
   "cell_type": "code",
   "execution_count": null,
   "metadata": {
    "colab": {
     "base_uri": "https://localhost:8080/"
    },
    "id": "gniGQDrVRBjD",
    "outputId": "f0e68a0b-089a-4751-c223-947038172c3a"
   },
   "outputs": [
    {
     "data": {
      "text/plain": [
       "0"
      ]
     },
     "execution_count": 19,
     "metadata": {
      "tags": []
     },
     "output_type": "execute_result"
    }
   ],
   "source": [
    "gc.collect()"
   ]
  },
  {
   "cell_type": "code",
   "execution_count": null,
   "metadata": {
    "colab": {
     "base_uri": "https://localhost:8080/"
    },
    "id": "LAKYSrRSRLDf",
    "outputId": "18be9b8e-4a0b-4816-8962-3a0fec64b24f"
   },
   "outputs": [
    {
     "name": "stdout",
     "output_type": "stream",
     "text": [
      "Fitting 3 folds for each of 10 candidates, totalling 30 fits\n",
      "[CV 1/3; 1/10] START class_weight={0: 1, 1: 50}, learning_rate=0.1, max_depth=5, n_estimators=200, num_leaves=93\n",
      "[CV 1/3; 1/10] END class_weight={0: 1, 1: 50}, learning_rate=0.1, max_depth=5, n_estimators=200, num_leaves=93; total time=  48.3s\n",
      "[CV 2/3; 1/10] START class_weight={0: 1, 1: 50}, learning_rate=0.1, max_depth=5, n_estimators=200, num_leaves=93\n",
      "[CV 2/3; 1/10] END class_weight={0: 1, 1: 50}, learning_rate=0.1, max_depth=5, n_estimators=200, num_leaves=93; total time=  48.2s\n",
      "[CV 3/3; 1/10] START class_weight={0: 1, 1: 50}, learning_rate=0.1, max_depth=5, n_estimators=200, num_leaves=93\n",
      "[CV 3/3; 1/10] END class_weight={0: 1, 1: 50}, learning_rate=0.1, max_depth=5, n_estimators=200, num_leaves=93; total time=  47.9s\n",
      "[CV 1/3; 2/10] START class_weight={0: 1, 1: 50}, learning_rate=0.05, max_depth=5, n_estimators=70, num_leaves=93\n",
      "[CV 1/3; 2/10] END class_weight={0: 1, 1: 50}, learning_rate=0.05, max_depth=5, n_estimators=70, num_leaves=93; total time=  25.9s\n",
      "[CV 2/3; 2/10] START class_weight={0: 1, 1: 50}, learning_rate=0.05, max_depth=5, n_estimators=70, num_leaves=93\n",
      "[CV 2/3; 2/10] END class_weight={0: 1, 1: 50}, learning_rate=0.05, max_depth=5, n_estimators=70, num_leaves=93; total time=  25.8s\n",
      "[CV 3/3; 2/10] START class_weight={0: 1, 1: 50}, learning_rate=0.05, max_depth=5, n_estimators=70, num_leaves=93\n",
      "[CV 3/3; 2/10] END class_weight={0: 1, 1: 50}, learning_rate=0.05, max_depth=5, n_estimators=70, num_leaves=93; total time=  25.9s\n",
      "[CV 1/3; 3/10] START class_weight={0: 1, 1: 10}, learning_rate=0.1, max_depth=10, n_estimators=300, num_leaves=62\n",
      "[CV 1/3; 3/10] END class_weight={0: 1, 1: 10}, learning_rate=0.1, max_depth=10, n_estimators=300, num_leaves=62; total time= 1.1min\n",
      "[CV 2/3; 3/10] START class_weight={0: 1, 1: 10}, learning_rate=0.1, max_depth=10, n_estimators=300, num_leaves=62\n",
      "[CV 2/3; 3/10] END class_weight={0: 1, 1: 10}, learning_rate=0.1, max_depth=10, n_estimators=300, num_leaves=62; total time= 1.1min\n",
      "[CV 3/3; 3/10] START class_weight={0: 1, 1: 10}, learning_rate=0.1, max_depth=10, n_estimators=300, num_leaves=62\n",
      "[CV 3/3; 3/10] END class_weight={0: 1, 1: 10}, learning_rate=0.1, max_depth=10, n_estimators=300, num_leaves=62; total time= 1.1min\n",
      "[CV 1/3; 4/10] START class_weight={0: 1, 1: 50}, learning_rate=0.1, max_depth=8, n_estimators=300, num_leaves=31\n",
      "[CV 1/3; 4/10] END class_weight={0: 1, 1: 50}, learning_rate=0.1, max_depth=8, n_estimators=300, num_leaves=31; total time=  59.1s\n",
      "[CV 2/3; 4/10] START class_weight={0: 1, 1: 50}, learning_rate=0.1, max_depth=8, n_estimators=300, num_leaves=31\n",
      "[CV 2/3; 4/10] END class_weight={0: 1, 1: 50}, learning_rate=0.1, max_depth=8, n_estimators=300, num_leaves=31; total time=  59.9s\n",
      "[CV 3/3; 4/10] START class_weight={0: 1, 1: 50}, learning_rate=0.1, max_depth=8, n_estimators=300, num_leaves=31\n",
      "[CV 3/3; 4/10] END class_weight={0: 1, 1: 50}, learning_rate=0.1, max_depth=8, n_estimators=300, num_leaves=31; total time=  59.8s\n",
      "[CV 1/3; 5/10] START class_weight={0: 1, 1: 10}, learning_rate=0.2, max_depth=5, n_estimators=70, num_leaves=31\n",
      "[CV 1/3; 5/10] END class_weight={0: 1, 1: 10}, learning_rate=0.2, max_depth=5, n_estimators=70, num_leaves=31; total time=  25.0s\n",
      "[CV 2/3; 5/10] START class_weight={0: 1, 1: 10}, learning_rate=0.2, max_depth=5, n_estimators=70, num_leaves=31\n",
      "[CV 2/3; 5/10] END class_weight={0: 1, 1: 10}, learning_rate=0.2, max_depth=5, n_estimators=70, num_leaves=31; total time=  25.1s\n",
      "[CV 3/3; 5/10] START class_weight={0: 1, 1: 10}, learning_rate=0.2, max_depth=5, n_estimators=70, num_leaves=31\n",
      "[CV 3/3; 5/10] END class_weight={0: 1, 1: 10}, learning_rate=0.2, max_depth=5, n_estimators=70, num_leaves=31; total time=  25.0s\n",
      "[CV 1/3; 6/10] START class_weight={0: 1, 1: 50}, learning_rate=0.15, max_depth=8, n_estimators=150, num_leaves=31\n",
      "[CV 1/3; 6/10] END class_weight={0: 1, 1: 50}, learning_rate=0.15, max_depth=8, n_estimators=150, num_leaves=31; total time=  37.6s\n",
      "[CV 2/3; 6/10] START class_weight={0: 1, 1: 50}, learning_rate=0.15, max_depth=8, n_estimators=150, num_leaves=31\n",
      "[CV 2/3; 6/10] END class_weight={0: 1, 1: 50}, learning_rate=0.15, max_depth=8, n_estimators=150, num_leaves=31; total time=  37.4s\n",
      "[CV 3/3; 6/10] START class_weight={0: 1, 1: 50}, learning_rate=0.15, max_depth=8, n_estimators=150, num_leaves=31\n",
      "[CV 3/3; 6/10] END class_weight={0: 1, 1: 50}, learning_rate=0.15, max_depth=8, n_estimators=150, num_leaves=31; total time=  37.3s\n",
      "[CV 1/3; 7/10] START class_weight={0: 1, 1: 10}, learning_rate=0.2, max_depth=10, n_estimators=100, num_leaves=93\n",
      "[CV 1/3; 7/10] END class_weight={0: 1, 1: 10}, learning_rate=0.2, max_depth=10, n_estimators=100, num_leaves=93; total time=  32.8s\n",
      "[CV 2/3; 7/10] START class_weight={0: 1, 1: 10}, learning_rate=0.2, max_depth=10, n_estimators=100, num_leaves=93\n",
      "[CV 2/3; 7/10] END class_weight={0: 1, 1: 10}, learning_rate=0.2, max_depth=10, n_estimators=100, num_leaves=93; total time=  32.6s\n",
      "[CV 3/3; 7/10] START class_weight={0: 1, 1: 10}, learning_rate=0.2, max_depth=10, n_estimators=100, num_leaves=93\n",
      "[CV 3/3; 7/10] END class_weight={0: 1, 1: 10}, learning_rate=0.2, max_depth=10, n_estimators=100, num_leaves=93; total time=  33.0s\n",
      "[CV 1/3; 8/10] START class_weight={0: 1, 1: 50}, learning_rate=0.2, max_depth=8, n_estimators=300, num_leaves=93\n",
      "[CV 1/3; 8/10] END class_weight={0: 1, 1: 50}, learning_rate=0.2, max_depth=8, n_estimators=300, num_leaves=93; total time= 1.1min\n",
      "[CV 2/3; 8/10] START class_weight={0: 1, 1: 50}, learning_rate=0.2, max_depth=8, n_estimators=300, num_leaves=93\n",
      "[CV 2/3; 8/10] END class_weight={0: 1, 1: 50}, learning_rate=0.2, max_depth=8, n_estimators=300, num_leaves=93; total time= 1.1min\n",
      "[CV 3/3; 8/10] START class_weight={0: 1, 1: 50}, learning_rate=0.2, max_depth=8, n_estimators=300, num_leaves=93\n",
      "[CV 3/3; 8/10] END class_weight={0: 1, 1: 50}, learning_rate=0.2, max_depth=8, n_estimators=300, num_leaves=93; total time= 1.1min\n",
      "[CV 1/3; 9/10] START class_weight={0: 1, 1: 10}, learning_rate=0.1, max_depth=5, n_estimators=100, num_leaves=31\n",
      "[CV 1/3; 9/10] END class_weight={0: 1, 1: 10}, learning_rate=0.1, max_depth=5, n_estimators=100, num_leaves=31; total time=  31.2s\n",
      "[CV 2/3; 9/10] START class_weight={0: 1, 1: 10}, learning_rate=0.1, max_depth=5, n_estimators=100, num_leaves=31\n",
      "[CV 2/3; 9/10] END class_weight={0: 1, 1: 10}, learning_rate=0.1, max_depth=5, n_estimators=100, num_leaves=31; total time=  30.9s\n",
      "[CV 3/3; 9/10] START class_weight={0: 1, 1: 10}, learning_rate=0.1, max_depth=5, n_estimators=100, num_leaves=31\n",
      "[CV 3/3; 9/10] END class_weight={0: 1, 1: 10}, learning_rate=0.1, max_depth=5, n_estimators=100, num_leaves=31; total time=  30.9s\n",
      "[CV 1/3; 10/10] START class_weight={0: 1, 1: 10}, learning_rate=0.2, max_depth=5, n_estimators=100, num_leaves=31\n",
      "[CV 1/3; 10/10] END class_weight={0: 1, 1: 10}, learning_rate=0.2, max_depth=5, n_estimators=100, num_leaves=31; total time=  30.3s\n",
      "[CV 2/3; 10/10] START class_weight={0: 1, 1: 10}, learning_rate=0.2, max_depth=5, n_estimators=100, num_leaves=31\n",
      "[CV 2/3; 10/10] END class_weight={0: 1, 1: 10}, learning_rate=0.2, max_depth=5, n_estimators=100, num_leaves=31; total time=  30.5s\n",
      "[CV 3/3; 10/10] START class_weight={0: 1, 1: 10}, learning_rate=0.2, max_depth=5, n_estimators=100, num_leaves=31\n",
      "[CV 3/3; 10/10] END class_weight={0: 1, 1: 10}, learning_rate=0.2, max_depth=5, n_estimators=100, num_leaves=31; total time=  30.2s\n"
     ]
    },
    {
     "data": {
      "text/plain": [
       "RandomizedSearchCV(cv=3, estimator=LGBMClassifier(device_type='gpu'),\n",
       "                   param_distributions={'class_weight': [{0: 1, 1: 5},\n",
       "                                                         {0: 1, 1: 10},\n",
       "                                                         {0: 1, 1: 50}],\n",
       "                                        'learning_rate': [0.05, 0.1, 0.15, 0.2],\n",
       "                                        'max_depth': [5, 8, 10],\n",
       "                                        'n_estimators': [70, 100, 150, 200,\n",
       "                                                         300],\n",
       "                                        'num_leaves': [31, 62, 93]},\n",
       "                   return_train_score=True, scoring='f1', verbose=10)"
      ]
     },
     "execution_count": 67,
     "metadata": {
      "tags": []
     },
     "output_type": "execute_result"
    }
   ],
   "source": [
    "lgbm=LGBMClassifier(device_type='gpu')\n",
    "\n",
    "prams={\n",
    "    'learning_rate':[0.05,0.1,0.15,0.2],\n",
    "     'n_estimators':[50,100,150,200,300],\n",
    "     'max_depth':[3,5,8,10],\n",
    "     'num_leaves':[31,62,93],\n",
    "     'class_weight':[{0:1,1:5},{0:1,1:10},{0:1,1:50}],\n",
    "}\n",
    "lgbm_cfl1=RandomizedSearchCV(lgbm,param_distributions=prams,verbose=10,scoring='f1',return_train_score=True,cv=3)\n",
    "lgbm_cfl1.fit(X_train,y_train)"
   ]
  },
  {
   "cell_type": "code",
   "execution_count": null,
   "metadata": {
    "colab": {
     "base_uri": "https://localhost:8080/",
     "height": 889
    },
    "id": "HYeqEHpuRVqw",
    "outputId": "c8d9f656-dd95-4c93-b4a2-815d396ea051"
   },
   "outputs": [
    {
     "data": {
      "text/html": [
       "<div>\n",
       "<style scoped>\n",
       "    .dataframe tbody tr th:only-of-type {\n",
       "        vertical-align: middle;\n",
       "    }\n",
       "\n",
       "    .dataframe tbody tr th {\n",
       "        vertical-align: top;\n",
       "    }\n",
       "\n",
       "    .dataframe thead th {\n",
       "        text-align: right;\n",
       "    }\n",
       "</style>\n",
       "<table border=\"1\" class=\"dataframe\">\n",
       "  <thead>\n",
       "    <tr style=\"text-align: right;\">\n",
       "      <th></th>\n",
       "      <th>mean_fit_time</th>\n",
       "      <th>std_fit_time</th>\n",
       "      <th>mean_score_time</th>\n",
       "      <th>std_score_time</th>\n",
       "      <th>param_num_leaves</th>\n",
       "      <th>param_n_estimators</th>\n",
       "      <th>param_max_depth</th>\n",
       "      <th>param_learning_rate</th>\n",
       "      <th>param_class_weight</th>\n",
       "      <th>params</th>\n",
       "      <th>split0_test_score</th>\n",
       "      <th>split1_test_score</th>\n",
       "      <th>split2_test_score</th>\n",
       "      <th>mean_test_score</th>\n",
       "      <th>std_test_score</th>\n",
       "      <th>rank_test_score</th>\n",
       "      <th>split0_train_score</th>\n",
       "      <th>split1_train_score</th>\n",
       "      <th>split2_train_score</th>\n",
       "      <th>mean_train_score</th>\n",
       "      <th>std_train_score</th>\n",
       "    </tr>\n",
       "  </thead>\n",
       "  <tbody>\n",
       "    <tr>\n",
       "      <th>0</th>\n",
       "      <td>38.308250</td>\n",
       "      <td>0.074506</td>\n",
       "      <td>9.801586</td>\n",
       "      <td>0.095338</td>\n",
       "      <td>93</td>\n",
       "      <td>200</td>\n",
       "      <td>5</td>\n",
       "      <td>0.1</td>\n",
       "      <td>{0: 1, 1: 50}</td>\n",
       "      <td>{'num_leaves': 93, 'n_estimators': 200, 'max_d...</td>\n",
       "      <td>0.223525</td>\n",
       "      <td>0.224152</td>\n",
       "      <td>0.224841</td>\n",
       "      <td>0.224173</td>\n",
       "      <td>0.000537</td>\n",
       "      <td>9</td>\n",
       "      <td>0.224628</td>\n",
       "      <td>0.225040</td>\n",
       "      <td>0.224717</td>\n",
       "      <td>0.224795</td>\n",
       "      <td>0.000177</td>\n",
       "    </tr>\n",
       "    <tr>\n",
       "      <th>1</th>\n",
       "      <td>21.506200</td>\n",
       "      <td>0.059773</td>\n",
       "      <td>4.343197</td>\n",
       "      <td>0.008269</td>\n",
       "      <td>93</td>\n",
       "      <td>70</td>\n",
       "      <td>5</td>\n",
       "      <td>0.05</td>\n",
       "      <td>{0: 1, 1: 50}</td>\n",
       "      <td>{'num_leaves': 93, 'n_estimators': 70, 'max_de...</td>\n",
       "      <td>0.215132</td>\n",
       "      <td>0.215883</td>\n",
       "      <td>0.216158</td>\n",
       "      <td>0.215724</td>\n",
       "      <td>0.000434</td>\n",
       "      <td>10</td>\n",
       "      <td>0.215768</td>\n",
       "      <td>0.216202</td>\n",
       "      <td>0.215509</td>\n",
       "      <td>0.215826</td>\n",
       "      <td>0.000286</td>\n",
       "    </tr>\n",
       "    <tr>\n",
       "      <th>2</th>\n",
       "      <td>50.557674</td>\n",
       "      <td>0.072111</td>\n",
       "      <td>13.802671</td>\n",
       "      <td>0.212984</td>\n",
       "      <td>62</td>\n",
       "      <td>300</td>\n",
       "      <td>10</td>\n",
       "      <td>0.1</td>\n",
       "      <td>{0: 1, 1: 10}</td>\n",
       "      <td>{'num_leaves': 62, 'n_estimators': 300, 'max_d...</td>\n",
       "      <td>0.363141</td>\n",
       "      <td>0.362326</td>\n",
       "      <td>0.363483</td>\n",
       "      <td>0.362983</td>\n",
       "      <td>0.000486</td>\n",
       "      <td>1</td>\n",
       "      <td>0.368311</td>\n",
       "      <td>0.368580</td>\n",
       "      <td>0.368030</td>\n",
       "      <td>0.368307</td>\n",
       "      <td>0.000224</td>\n",
       "    </tr>\n",
       "    <tr>\n",
       "      <th>3</th>\n",
       "      <td>47.171308</td>\n",
       "      <td>0.244709</td>\n",
       "      <td>12.427966</td>\n",
       "      <td>0.119026</td>\n",
       "      <td>31</td>\n",
       "      <td>300</td>\n",
       "      <td>8</td>\n",
       "      <td>0.1</td>\n",
       "      <td>{0: 1, 1: 50}</td>\n",
       "      <td>{'num_leaves': 31, 'n_estimators': 300, 'max_d...</td>\n",
       "      <td>0.225338</td>\n",
       "      <td>0.225924</td>\n",
       "      <td>0.226374</td>\n",
       "      <td>0.225879</td>\n",
       "      <td>0.000424</td>\n",
       "      <td>7</td>\n",
       "      <td>0.226995</td>\n",
       "      <td>0.227434</td>\n",
       "      <td>0.226769</td>\n",
       "      <td>0.227066</td>\n",
       "      <td>0.000276</td>\n",
       "    </tr>\n",
       "    <tr>\n",
       "      <th>4</th>\n",
       "      <td>20.567227</td>\n",
       "      <td>0.064628</td>\n",
       "      <td>4.488995</td>\n",
       "      <td>0.023273</td>\n",
       "      <td>31</td>\n",
       "      <td>70</td>\n",
       "      <td>5</td>\n",
       "      <td>0.2</td>\n",
       "      <td>{0: 1, 1: 10}</td>\n",
       "      <td>{'num_leaves': 31, 'n_estimators': 70, 'max_de...</td>\n",
       "      <td>0.359050</td>\n",
       "      <td>0.357985</td>\n",
       "      <td>0.359273</td>\n",
       "      <td>0.358769</td>\n",
       "      <td>0.000562</td>\n",
       "      <td>4</td>\n",
       "      <td>0.360042</td>\n",
       "      <td>0.360106</td>\n",
       "      <td>0.360099</td>\n",
       "      <td>0.360082</td>\n",
       "      <td>0.000029</td>\n",
       "    </tr>\n",
       "    <tr>\n",
       "      <th>5</th>\n",
       "      <td>29.990971</td>\n",
       "      <td>0.053543</td>\n",
       "      <td>7.448748</td>\n",
       "      <td>0.169874</td>\n",
       "      <td>31</td>\n",
       "      <td>150</td>\n",
       "      <td>8</td>\n",
       "      <td>0.15</td>\n",
       "      <td>{0: 1, 1: 50}</td>\n",
       "      <td>{'num_leaves': 31, 'n_estimators': 150, 'max_d...</td>\n",
       "      <td>0.224490</td>\n",
       "      <td>0.225273</td>\n",
       "      <td>0.225979</td>\n",
       "      <td>0.225247</td>\n",
       "      <td>0.000608</td>\n",
       "      <td>8</td>\n",
       "      <td>0.225768</td>\n",
       "      <td>0.226438</td>\n",
       "      <td>0.226106</td>\n",
       "      <td>0.226104</td>\n",
       "      <td>0.000274</td>\n",
       "    </tr>\n",
       "    <tr>\n",
       "      <th>6</th>\n",
       "      <td>26.610722</td>\n",
       "      <td>0.147394</td>\n",
       "      <td>6.177734</td>\n",
       "      <td>0.044868</td>\n",
       "      <td>93</td>\n",
       "      <td>100</td>\n",
       "      <td>10</td>\n",
       "      <td>0.2</td>\n",
       "      <td>{0: 1, 1: 10}</td>\n",
       "      <td>{'num_leaves': 93, 'n_estimators': 100, 'max_d...</td>\n",
       "      <td>0.362628</td>\n",
       "      <td>0.361261</td>\n",
       "      <td>0.362901</td>\n",
       "      <td>0.362263</td>\n",
       "      <td>0.000718</td>\n",
       "      <td>2</td>\n",
       "      <td>0.368080</td>\n",
       "      <td>0.367596</td>\n",
       "      <td>0.367454</td>\n",
       "      <td>0.367710</td>\n",
       "      <td>0.000268</td>\n",
       "    </tr>\n",
       "    <tr>\n",
       "      <th>7</th>\n",
       "      <td>51.290805</td>\n",
       "      <td>0.169293</td>\n",
       "      <td>15.381318</td>\n",
       "      <td>0.017197</td>\n",
       "      <td>93</td>\n",
       "      <td>300</td>\n",
       "      <td>8</td>\n",
       "      <td>0.2</td>\n",
       "      <td>{0: 1, 1: 50}</td>\n",
       "      <td>{'num_leaves': 93, 'n_estimators': 300, 'max_d...</td>\n",
       "      <td>0.235315</td>\n",
       "      <td>0.235924</td>\n",
       "      <td>0.236487</td>\n",
       "      <td>0.235909</td>\n",
       "      <td>0.000479</td>\n",
       "      <td>6</td>\n",
       "      <td>0.242825</td>\n",
       "      <td>0.243783</td>\n",
       "      <td>0.242677</td>\n",
       "      <td>0.243095</td>\n",
       "      <td>0.000490</td>\n",
       "    </tr>\n",
       "    <tr>\n",
       "      <th>8</th>\n",
       "      <td>25.335725</td>\n",
       "      <td>0.097043</td>\n",
       "      <td>5.647493</td>\n",
       "      <td>0.053756</td>\n",
       "      <td>31</td>\n",
       "      <td>100</td>\n",
       "      <td>5</td>\n",
       "      <td>0.1</td>\n",
       "      <td>{0: 1, 1: 10}</td>\n",
       "      <td>{'num_leaves': 31, 'n_estimators': 100, 'max_d...</td>\n",
       "      <td>0.358092</td>\n",
       "      <td>0.356480</td>\n",
       "      <td>0.358946</td>\n",
       "      <td>0.357839</td>\n",
       "      <td>0.001022</td>\n",
       "      <td>5</td>\n",
       "      <td>0.358885</td>\n",
       "      <td>0.358324</td>\n",
       "      <td>0.359143</td>\n",
       "      <td>0.358784</td>\n",
       "      <td>0.000342</td>\n",
       "    </tr>\n",
       "    <tr>\n",
       "      <th>9</th>\n",
       "      <td>24.649941</td>\n",
       "      <td>0.171679</td>\n",
       "      <td>5.679319</td>\n",
       "      <td>0.071438</td>\n",
       "      <td>31</td>\n",
       "      <td>100</td>\n",
       "      <td>5</td>\n",
       "      <td>0.2</td>\n",
       "      <td>{0: 1, 1: 10}</td>\n",
       "      <td>{'num_leaves': 31, 'n_estimators': 100, 'max_d...</td>\n",
       "      <td>0.359702</td>\n",
       "      <td>0.359146</td>\n",
       "      <td>0.360605</td>\n",
       "      <td>0.359817</td>\n",
       "      <td>0.000601</td>\n",
       "      <td>3</td>\n",
       "      <td>0.361541</td>\n",
       "      <td>0.361608</td>\n",
       "      <td>0.361893</td>\n",
       "      <td>0.361681</td>\n",
       "      <td>0.000153</td>\n",
       "    </tr>\n",
       "  </tbody>\n",
       "</table>\n",
       "</div>"
      ],
      "text/plain": [
       "   mean_fit_time  std_fit_time  ...  mean_train_score  std_train_score\n",
       "0      38.308250      0.074506  ...          0.224795         0.000177\n",
       "1      21.506200      0.059773  ...          0.215826         0.000286\n",
       "2      50.557674      0.072111  ...          0.368307         0.000224\n",
       "3      47.171308      0.244709  ...          0.227066         0.000276\n",
       "4      20.567227      0.064628  ...          0.360082         0.000029\n",
       "5      29.990971      0.053543  ...          0.226104         0.000274\n",
       "6      26.610722      0.147394  ...          0.367710         0.000268\n",
       "7      51.290805      0.169293  ...          0.243095         0.000490\n",
       "8      25.335725      0.097043  ...          0.358784         0.000342\n",
       "9      24.649941      0.171679  ...          0.361681         0.000153\n",
       "\n",
       "[10 rows x 21 columns]"
      ]
     },
     "execution_count": 68,
     "metadata": {
      "tags": []
     },
     "output_type": "execute_result"
    }
   ],
   "source": [
    "pd.DataFrame(lgbm_cfl1.cv_results_)"
   ]
  },
  {
   "cell_type": "code",
   "execution_count": null,
   "metadata": {
    "colab": {
     "base_uri": "https://localhost:8080/"
    },
    "id": "mRPkuNAFZnkh",
    "outputId": "c9f3dad1-8e12-49be-8db7-ceaa63f9f702"
   },
   "outputs": [
    {
     "data": {
      "text/plain": [
       "{'class_weight': {0: 1, 1: 10},\n",
       " 'learning_rate': 0.1,\n",
       " 'max_depth': 10,\n",
       " 'n_estimators': 300,\n",
       " 'num_leaves': 62}"
      ]
     },
     "execution_count": 70,
     "metadata": {
      "tags": []
     },
     "output_type": "execute_result"
    }
   ],
   "source": [
    "#best1\n",
    "lgbm_cfl1.best_params_"
   ]
  },
  {
   "cell_type": "code",
   "execution_count": null,
   "metadata": {
    "colab": {
     "base_uri": "https://localhost:8080/"
    },
    "id": "BRJp0FVIZvwG",
    "outputId": "a2d112e5-1796-49ea-ec4e-968f68e514e1"
   },
   "outputs": [
    {
     "data": {
      "text/plain": [
       "LGBMClassifier(class_weight={0: 1, 1: 5}, device_type='gpu', max_depth=10,\n",
       "               n_estimators=1200, num_leaves=63, random_state=0)"
      ]
     },
     "execution_count": 144,
     "metadata": {
      "tags": []
     },
     "output_type": "execute_result"
    }
   ],
   "source": [
    "lgbm=LGBMClassifier(device_type='gpu',class_weight={0:1,1:5},learning_rate=0.1,max_depth=10,n_estimators=1200,num_leaves=63,random_state=0)\n",
    "lgbm.fit(X_train,y_train)"
   ]
  },
  {
   "cell_type": "code",
   "execution_count": null,
   "metadata": {
    "colab": {
     "base_uri": "https://localhost:8080/"
    },
    "id": "ErKnCbHsaOId",
    "outputId": "fc05536b-4a89-41ba-b4e6-ea35832027dc"
   },
   "outputs": [
    {
     "data": {
      "text/plain": [
       "(array([0.9130187 , 0.42731386]), 0.4273138591291579)"
      ]
     },
     "execution_count": 145,
     "metadata": {
      "tags": []
     },
     "output_type": "execute_result"
    }
   ],
   "source": [
    "f1_score(y_test,lgbm.predict(X_test),average=None),f1_score(y_test,lgbm.predict(X_test))"
   ]
  },
  {
   "cell_type": "code",
   "execution_count": null,
   "metadata": {
    "colab": {
     "base_uri": "https://localhost:8080/",
     "height": 748
    },
    "id": "YJvPDm8RJ_oE",
    "outputId": "2696ed39-77e0-4cda-ddfe-07a5984771f7"
   },
   "outputs": [
    {
     "data": {
      "image/png": "[encoded data removed]",
      "text/plain": [
       "<Figure size 720x720 with 1 Axes>"
      ]
     },
     "metadata": {
      "needs_background": "light",
      "tags": []
     },
     "output_type": "display_data"
    }
   ],
   "source": [
    "plt.figure(figsize=(10,10))\n",
    "plt.bar(X_train.columns,lgbm.feature_importances_)\n",
    "plt.xticks(rotation='vertical')\n",
    "plt.show()"
   ]
  },
  {
   "cell_type": "code",
   "execution_count": null,
   "metadata": {
    "id": "C8dg9mdkqESV"
   },
   "outputs": [],
   "source": [
    "pickle.dump(lgbm,open('/upload/lgbmmodel.sav','wb'))"
   ]
  },
  {
   "cell_type": "code",
   "execution_count": null,
   "metadata": {
    "colab": {
     "base_uri": "https://localhost:8080/"
    },
    "id": "kQQKVyVMad3B",
    "outputId": "0cb4bb54-65d7-4458-c431-608ba6c1a40f"
   },
   "outputs": [
    {
     "data": {
      "text/plain": [
       "Index(['order_number', 'order_dow', 'order_hour_of_day',\n",
       "       'days_since_prior_order', 'cos_cyclic_hour', 'sin_cyclic_hour',\n",
       "       'cos_cyclic_day', 'sin_cyclic_day', 'daypriorratio', 'hod_ratio',\n",
       "       'product_hour_ratio', 'dow_ratio', 'product_day_ratio',\n",
       "       'user_product_ratio', 'user_day_ratio', 'user_hour_ratio',\n",
       "       'since_order_product', 'user_times_product', 'pca0', 'pca1', 'pca2',\n",
       "       'pca3', 'pca4', 'pca5', 'pca6', 'pca7', 'pca8', 'pca9', 'pca10',\n",
       "       'pca11', 'pca12', 'pca13', 'pca14', 'pca15', 'pca16', 'pca17', 'pca18',\n",
       "       'pca19', 'pca20', 'pca21', 'pca22', 'pca23', 'pca24', 'pca25', 'pca26',\n",
       "       'pca27', 'pca28', 'pca29'],\n",
       "      dtype='object')"
      ]
     },
     "execution_count": 18,
     "metadata": {
      "tags": []
     },
     "output_type": "execute_result"
    }
   ],
   "source": [
    "X_train.columns"
   ]
  },
  {
   "cell_type": "code",
   "execution_count": null,
   "metadata": {
    "id": "VlAqxhD0ay-c"
   },
   "outputs": [],
   "source": [
    "test = Test[X_train.columns]"
   ]
  },
  {
   "cell_type": "code",
   "execution_count": null,
   "metadata": {
    "id": "Ca-wUqFIa322"
   },
   "outputs": [],
   "source": [
    "result = loaded_model.predict(test)"
   ]
  }
 ],
 "metadata": {
  "accelerator": "GPU",
  "colab": {
   "collapsed_sections": [],
   "machine_shape": "hm",
   "name": "ModellingLGBMipynb",
   "provenance": []
  },
  "kernelspec": {
   "display_name": "base",
   "language": "python",
   "name": "python3"
  },
  "language_info": {
   "codemirror_mode": {
    "name": "ipython",
    "version": 3
   },
   "file_extension": ".py",
   "mimetype": "text/x-python",
   "name": "python",
   "nbconvert_exporter": "python",
   "pygments_lexer": "ipython3",
   "version": "3.9.13"
  },
  "vscode": {
   "interpreter": {
    "hash": "ad2bdc8ecc057115af97d19610ffacc2b4e99fae6737bb82f5d7fb13d2f2c186"
   }
  }
 },
 "nbformat": 4,
 "nbformat_minor": 1
}
