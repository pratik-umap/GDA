{
 "cells": [
  {
   "cell_type": "code",
   "execution_count": 10,
   "metadata": {},
   "outputs": [],
   "source": [
    "import pickle\n",
    "import pandas as pd \n",
    "from datetime import datetime\n",
    "import warnings\n",
    "from sklearn.metrics import f1_score\n",
    "warnings.filterwarnings('ignore')"
   ]
  },
  {
   "cell_type": "code",
   "execution_count": 11,
   "metadata": {},
   "outputs": [],
   "source": [
    "def fun2(order_id):\n",
    "    '''In this function we will be loading only train file data points'''\n",
    "    data = pickle.load(open('./upload/pklfile/train_features.pkl','rb'))\n",
    "    if order_id not in data.order_id:\n",
    "        print('Order_id not in Train_data')\n",
    "    else:\n",
    "        data = data[data.order_id==order_id]\n",
    "        model = pickle.load(open('./upload/lgbmmodel.sav','rb'))\n",
    "        # print(model.feature_name_)\n",
    "        prediction = model.predict(data[model.feature_name_])\n",
    "        data['prediction'] = prediction\n",
    "        data = data['reordered','prediction']\n",
    "        print(\"F1_score of the order_id{} is {}.\".format(order_id,f1_score(data['reordered'],data['prediction'])))"
   ]
  },
  {
   "cell_type": "markdown",
   "metadata": {},
   "source": [
    "### Example of function2"
   ]
  },
  {
   "cell_type": "code",
   "execution_count": 12,
   "metadata": {},
   "outputs": [
    {
     "name": "stdout",
     "output_type": "stream",
     "text": [
      "F1_score of the order_id1 is 0.6153846153846153.\n",
      "The time taken to execute : 0:00:49.084950\n"
     ]
    }
   ],
   "source": [
    "order_id = int(input('Enter the Order_id: '))\n",
    "start = datetime.now()\n",
    "fun2(order_id)\n",
    "print('The time taken to execute : {}'.format(datetime.now()-start))"
   ]
  },
  {
   "cell_type": "code",
   "execution_count": 22,
   "metadata": {},
   "outputs": [
    {
     "name": "stdout",
     "output_type": "stream",
     "text": [
      "Enter the Order_id: 1\n",
      "F1_score of the order_id1 is 0.5714285714285715.\n",
      "The time taken to execute : 0:00:04.512302\n"
     ]
    }
   ],
   "source": [
    "order_id = int(input('Enter the Order_id: '))\n",
    "start = datetime.now()\n",
    "fun2(order_id)\n",
    "print('The time taken to execute : {}'.format(datetime.now()-start))"
   ]
  },
  {
   "cell_type": "code",
   "execution_count": 23,
   "metadata": {},
   "outputs": [
    {
     "name": "stdout",
     "output_type": "stream",
     "text": [
      "Enter the Order_id: 1955\n",
      "F1_score of the order_id1955 is 0.576271186440678.\n",
      "The time taken to execute : 0:00:03.504003\n"
     ]
    }
   ],
   "source": [
    "order_id = int(input('Enter the Order_id: '))\n",
    "start = datetime.now()\n",
    "fun2(order_id)\n",
    "print('The time taken to execute : {}'.format(datetime.now()-start))"
   ]
  },
  {
   "cell_type": "code",
   "execution_count": 24,
   "metadata": {},
   "outputs": [
    {
     "name": "stdout",
     "output_type": "stream",
     "text": [
      "Enter the Order_id: 3422\n",
      "F1_score of the order_id3422 is 0.5333333333333333.\n",
      "The time taken to execute : 0:00:03.301543\n"
     ]
    }
   ],
   "source": [
    "order_id = int(input('Enter the Order_id: '))\n",
    "start = datetime.now()\n",
    "fun2(order_id)\n",
    "print('The time taken to execute : {}'.format(datetime.now()-start))"
   ]
  }
 ],
 "metadata": {
  "kernelspec": {
   "display_name": "base",
   "language": "python",
   "name": "python3"
  },
  "language_info": {
   "codemirror_mode": {
    "name": "ipython",
    "version": 3
   },
   "file_extension": ".py",
   "mimetype": "text/x-python",
   "name": "python",
   "nbconvert_exporter": "python",
   "pygments_lexer": "ipython3",
   "version": "3.9.13"
  },
  "vscode": {
   "interpreter": {
    "hash": "ad2bdc8ecc057115af97d19610ffacc2b4e99fae6737bb82f5d7fb13d2f2c186"
   }
  }
 },
 "nbformat": 4,
 "nbformat_minor": 4
}
