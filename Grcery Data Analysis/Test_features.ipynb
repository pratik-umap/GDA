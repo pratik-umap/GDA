{
 "cells": [
  {
   "cell_type": "code",
   "execution_count": 3,
   "metadata": {},
   "outputs": [],
   "source": [
    "import pandas as pd\n",
    "import numpy as np\n",
    "import gc\n",
    "import spacy\n",
    "from tqdm import tqdm\n",
    "import matplotlib.pyplot as plt\n",
    "import sys\n",
    "import pickle"
   ]
  },
  {
   "cell_type": "code",
   "execution_count": 4,
   "metadata": {},
   "outputs": [],
   "source": [
    "order_prior = pd.read_csv(\"data/order_products__prior.csv\")\n",
    "# order_prior= reduce_mem_usage(order_prior)\n",
    "orders      = pd.read_csv(\"data/orders.csv\")\n",
    "# orders= reduce_mem_usage(orders)"
   ]
  },
  {
   "cell_type": "code",
   "execution_count": 5,
   "metadata": {},
   "outputs": [
    {
     "data": {
      "text/html": [
       "<div>\n",
       "<style scoped>\n",
       "    .dataframe tbody tr th:only-of-type {\n",
       "        vertical-align: middle;\n",
       "    }\n",
       "\n",
       "    .dataframe tbody tr th {\n",
       "        vertical-align: top;\n",
       "    }\n",
       "\n",
       "    .dataframe thead th {\n",
       "        text-align: right;\n",
       "    }\n",
       "</style>\n",
       "<table border=\"1\" class=\"dataframe\">\n",
       "  <thead>\n",
       "    <tr style=\"text-align: right;\">\n",
       "      <th></th>\n",
       "      <th>order_id</th>\n",
       "      <th>product_id</th>\n",
       "      <th>add_to_cart_order</th>\n",
       "      <th>reordered</th>\n",
       "    </tr>\n",
       "  </thead>\n",
       "  <tbody>\n",
       "    <tr>\n",
       "      <th>0</th>\n",
       "      <td>6</td>\n",
       "      <td>None</td>\n",
       "      <td>0</td>\n",
       "      <td>1</td>\n",
       "    </tr>\n",
       "    <tr>\n",
       "      <th>1</th>\n",
       "      <td>7</td>\n",
       "      <td>None</td>\n",
       "      <td>0</td>\n",
       "      <td>1</td>\n",
       "    </tr>\n",
       "    <tr>\n",
       "      <th>2</th>\n",
       "      <td>13</td>\n",
       "      <td>None</td>\n",
       "      <td>0</td>\n",
       "      <td>1</td>\n",
       "    </tr>\n",
       "    <tr>\n",
       "      <th>3</th>\n",
       "      <td>20</td>\n",
       "      <td>None</td>\n",
       "      <td>0</td>\n",
       "      <td>1</td>\n",
       "    </tr>\n",
       "    <tr>\n",
       "      <th>4</th>\n",
       "      <td>24</td>\n",
       "      <td>None</td>\n",
       "      <td>0</td>\n",
       "      <td>1</td>\n",
       "    </tr>\n",
       "  </tbody>\n",
       "</table>\n",
       "</div>"
      ],
      "text/plain": [
       "   order_id product_id  add_to_cart_order  reordered\n",
       "0         6       None                  0          1\n",
       "1         7       None                  0          1\n",
       "2        13       None                  0          1\n",
       "3        20       None                  0          1\n",
       "4        24       None                  0          1"
      ]
     },
     "execution_count": 5,
     "metadata": {},
     "output_type": "execute_result"
    }
   ],
   "source": [
    "temp = order_prior[[\"order_id\",'reordered']].groupby('order_id').agg('sum')\n",
    "\n",
    "none_prior=pd.DataFrame({'order_id':temp[temp.reordered==0].index,'product_id':'None','add_to_cart_order':0,'reordered':1})\n",
    "none_prior.head()"
   ]
  },
  {
   "cell_type": "code",
   "execution_count": 6,
   "metadata": {},
   "outputs": [
    {
     "data": {
      "text/html": [
       "<div>\n",
       "<style scoped>\n",
       "    .dataframe tbody tr th:only-of-type {\n",
       "        vertical-align: middle;\n",
       "    }\n",
       "\n",
       "    .dataframe tbody tr th {\n",
       "        vertical-align: top;\n",
       "    }\n",
       "\n",
       "    .dataframe thead th {\n",
       "        text-align: right;\n",
       "    }\n",
       "</style>\n",
       "<table border=\"1\" class=\"dataframe\">\n",
       "  <thead>\n",
       "    <tr style=\"text-align: right;\">\n",
       "      <th></th>\n",
       "      <th>order_id</th>\n",
       "      <th>product_id</th>\n",
       "      <th>reordered</th>\n",
       "      <th>user_id</th>\n",
       "      <th>eval_set</th>\n",
       "      <th>order_number</th>\n",
       "      <th>order_dow</th>\n",
       "      <th>order_hour_of_day</th>\n",
       "      <th>days_since_prior_order</th>\n",
       "    </tr>\n",
       "  </thead>\n",
       "  <tbody>\n",
       "    <tr>\n",
       "      <th>0</th>\n",
       "      <td>2</td>\n",
       "      <td>33120</td>\n",
       "      <td>1</td>\n",
       "      <td>202279</td>\n",
       "      <td>prior</td>\n",
       "      <td>3</td>\n",
       "      <td>5</td>\n",
       "      <td>9</td>\n",
       "      <td>8.0</td>\n",
       "    </tr>\n",
       "    <tr>\n",
       "      <th>1</th>\n",
       "      <td>2</td>\n",
       "      <td>28985</td>\n",
       "      <td>1</td>\n",
       "      <td>202279</td>\n",
       "      <td>prior</td>\n",
       "      <td>3</td>\n",
       "      <td>5</td>\n",
       "      <td>9</td>\n",
       "      <td>8.0</td>\n",
       "    </tr>\n",
       "    <tr>\n",
       "      <th>2</th>\n",
       "      <td>2</td>\n",
       "      <td>9327</td>\n",
       "      <td>0</td>\n",
       "      <td>202279</td>\n",
       "      <td>prior</td>\n",
       "      <td>3</td>\n",
       "      <td>5</td>\n",
       "      <td>9</td>\n",
       "      <td>8.0</td>\n",
       "    </tr>\n",
       "    <tr>\n",
       "      <th>3</th>\n",
       "      <td>2</td>\n",
       "      <td>45918</td>\n",
       "      <td>1</td>\n",
       "      <td>202279</td>\n",
       "      <td>prior</td>\n",
       "      <td>3</td>\n",
       "      <td>5</td>\n",
       "      <td>9</td>\n",
       "      <td>8.0</td>\n",
       "    </tr>\n",
       "    <tr>\n",
       "      <th>4</th>\n",
       "      <td>2</td>\n",
       "      <td>30035</td>\n",
       "      <td>0</td>\n",
       "      <td>202279</td>\n",
       "      <td>prior</td>\n",
       "      <td>3</td>\n",
       "      <td>5</td>\n",
       "      <td>9</td>\n",
       "      <td>8.0</td>\n",
       "    </tr>\n",
       "  </tbody>\n",
       "</table>\n",
       "</div>"
      ],
      "text/plain": [
       "   order_id product_id  reordered  user_id eval_set  order_number  order_dow  \\\n",
       "0         2      33120          1   202279    prior             3          5   \n",
       "1         2      28985          1   202279    prior             3          5   \n",
       "2         2       9327          0   202279    prior             3          5   \n",
       "3         2      45918          1   202279    prior             3          5   \n",
       "4         2      30035          0   202279    prior             3          5   \n",
       "\n",
       "   order_hour_of_day  days_since_prior_order  \n",
       "0                  9                     8.0  \n",
       "1                  9                     8.0  \n",
       "2                  9                     8.0  \n",
       "3                  9                     8.0  \n",
       "4                  9                     8.0  "
      ]
     },
     "execution_count": 6,
     "metadata": {},
     "output_type": "execute_result"
    }
   ],
   "source": [
    "prior_data = pd.concat([order_prior.drop(['add_to_cart_order'],axis=1),none_prior.drop(['add_to_cart_order'],axis=1)])\n",
    "prior_data = prior_data.merge(orders,on='order_id').fillna(0)\n",
    "\n",
    "prior_data.head()"
   ]
  },
  {
   "cell_type": "code",
   "execution_count": 7,
   "metadata": {},
   "outputs": [
    {
     "data": {
      "text/plain": [
       "206209"
      ]
     },
     "execution_count": 7,
     "metadata": {},
     "output_type": "execute_result"
    }
   ],
   "source": [
    "prior_data.user_id[prior_data.product_id!='None'].nunique()"
   ]
  },
  {
   "cell_type": "code",
   "execution_count": 8,
   "metadata": {},
   "outputs": [
    {
     "data": {
      "text/html": [
       "<div>\n",
       "<style scoped>\n",
       "    .dataframe tbody tr th:only-of-type {\n",
       "        vertical-align: middle;\n",
       "    }\n",
       "\n",
       "    .dataframe tbody tr th {\n",
       "        vertical-align: top;\n",
       "    }\n",
       "\n",
       "    .dataframe thead th {\n",
       "        text-align: right;\n",
       "    }\n",
       "</style>\n",
       "<table border=\"1\" class=\"dataframe\">\n",
       "  <thead>\n",
       "    <tr style=\"text-align: right;\">\n",
       "      <th></th>\n",
       "      <th>order_id</th>\n",
       "      <th>user_id</th>\n",
       "      <th>eval_set</th>\n",
       "      <th>order_number</th>\n",
       "      <th>order_dow</th>\n",
       "      <th>order_hour_of_day</th>\n",
       "      <th>days_since_prior_order</th>\n",
       "    </tr>\n",
       "  </thead>\n",
       "  <tbody>\n",
       "    <tr>\n",
       "      <th>0</th>\n",
       "      <td>2539329</td>\n",
       "      <td>1</td>\n",
       "      <td>prior</td>\n",
       "      <td>1</td>\n",
       "      <td>2</td>\n",
       "      <td>8</td>\n",
       "      <td>NaN</td>\n",
       "    </tr>\n",
       "    <tr>\n",
       "      <th>1</th>\n",
       "      <td>2398795</td>\n",
       "      <td>1</td>\n",
       "      <td>prior</td>\n",
       "      <td>2</td>\n",
       "      <td>3</td>\n",
       "      <td>7</td>\n",
       "      <td>15.0</td>\n",
       "    </tr>\n",
       "    <tr>\n",
       "      <th>2</th>\n",
       "      <td>473747</td>\n",
       "      <td>1</td>\n",
       "      <td>prior</td>\n",
       "      <td>3</td>\n",
       "      <td>3</td>\n",
       "      <td>12</td>\n",
       "      <td>21.0</td>\n",
       "    </tr>\n",
       "    <tr>\n",
       "      <th>3</th>\n",
       "      <td>2254736</td>\n",
       "      <td>1</td>\n",
       "      <td>prior</td>\n",
       "      <td>4</td>\n",
       "      <td>4</td>\n",
       "      <td>7</td>\n",
       "      <td>29.0</td>\n",
       "    </tr>\n",
       "    <tr>\n",
       "      <th>4</th>\n",
       "      <td>431534</td>\n",
       "      <td>1</td>\n",
       "      <td>prior</td>\n",
       "      <td>5</td>\n",
       "      <td>4</td>\n",
       "      <td>15</td>\n",
       "      <td>28.0</td>\n",
       "    </tr>\n",
       "    <tr>\n",
       "      <th>...</th>\n",
       "      <td>...</td>\n",
       "      <td>...</td>\n",
       "      <td>...</td>\n",
       "      <td>...</td>\n",
       "      <td>...</td>\n",
       "      <td>...</td>\n",
       "      <td>...</td>\n",
       "    </tr>\n",
       "    <tr>\n",
       "      <th>3421078</th>\n",
       "      <td>2266710</td>\n",
       "      <td>206209</td>\n",
       "      <td>prior</td>\n",
       "      <td>10</td>\n",
       "      <td>5</td>\n",
       "      <td>18</td>\n",
       "      <td>29.0</td>\n",
       "    </tr>\n",
       "    <tr>\n",
       "      <th>3421079</th>\n",
       "      <td>1854736</td>\n",
       "      <td>206209</td>\n",
       "      <td>prior</td>\n",
       "      <td>11</td>\n",
       "      <td>4</td>\n",
       "      <td>10</td>\n",
       "      <td>30.0</td>\n",
       "    </tr>\n",
       "    <tr>\n",
       "      <th>3421080</th>\n",
       "      <td>626363</td>\n",
       "      <td>206209</td>\n",
       "      <td>prior</td>\n",
       "      <td>12</td>\n",
       "      <td>1</td>\n",
       "      <td>12</td>\n",
       "      <td>18.0</td>\n",
       "    </tr>\n",
       "    <tr>\n",
       "      <th>3421081</th>\n",
       "      <td>2977660</td>\n",
       "      <td>206209</td>\n",
       "      <td>prior</td>\n",
       "      <td>13</td>\n",
       "      <td>1</td>\n",
       "      <td>12</td>\n",
       "      <td>7.0</td>\n",
       "    </tr>\n",
       "    <tr>\n",
       "      <th>3421082</th>\n",
       "      <td>272231</td>\n",
       "      <td>206209</td>\n",
       "      <td>train</td>\n",
       "      <td>14</td>\n",
       "      <td>6</td>\n",
       "      <td>14</td>\n",
       "      <td>30.0</td>\n",
       "    </tr>\n",
       "  </tbody>\n",
       "</table>\n",
       "<p>3421083 rows × 7 columns</p>\n",
       "</div>"
      ],
      "text/plain": [
       "         order_id  user_id eval_set  order_number  order_dow  \\\n",
       "0         2539329        1    prior             1          2   \n",
       "1         2398795        1    prior             2          3   \n",
       "2          473747        1    prior             3          3   \n",
       "3         2254736        1    prior             4          4   \n",
       "4          431534        1    prior             5          4   \n",
       "...           ...      ...      ...           ...        ...   \n",
       "3421078   2266710   206209    prior            10          5   \n",
       "3421079   1854736   206209    prior            11          4   \n",
       "3421080    626363   206209    prior            12          1   \n",
       "3421081   2977660   206209    prior            13          1   \n",
       "3421082    272231   206209    train            14          6   \n",
       "\n",
       "         order_hour_of_day  days_since_prior_order  \n",
       "0                        8                     NaN  \n",
       "1                        7                    15.0  \n",
       "2                       12                    21.0  \n",
       "3                        7                    29.0  \n",
       "4                       15                    28.0  \n",
       "...                    ...                     ...  \n",
       "3421078                 18                    29.0  \n",
       "3421079                 10                    30.0  \n",
       "3421080                 12                    18.0  \n",
       "3421081                 12                     7.0  \n",
       "3421082                 14                    30.0  \n",
       "\n",
       "[3421083 rows x 7 columns]"
      ]
     },
     "execution_count": 8,
     "metadata": {},
     "output_type": "execute_result"
    }
   ],
   "source": [
    "orders"
   ]
  },
  {
   "cell_type": "code",
   "execution_count": 9,
   "metadata": {},
   "outputs": [
    {
     "data": {
      "text/html": [
       "<div>\n",
       "<style scoped>\n",
       "    .dataframe tbody tr th:only-of-type {\n",
       "        vertical-align: middle;\n",
       "    }\n",
       "\n",
       "    .dataframe tbody tr th {\n",
       "        vertical-align: top;\n",
       "    }\n",
       "\n",
       "    .dataframe thead th {\n",
       "        text-align: right;\n",
       "    }\n",
       "</style>\n",
       "<table border=\"1\" class=\"dataframe\">\n",
       "  <thead>\n",
       "    <tr style=\"text-align: right;\">\n",
       "      <th></th>\n",
       "      <th>order_id</th>\n",
       "      <th>user_id</th>\n",
       "      <th>order_number</th>\n",
       "      <th>order_dow</th>\n",
       "      <th>order_hour_of_day</th>\n",
       "      <th>days_since_prior_order</th>\n",
       "      <th>product_id</th>\n",
       "    </tr>\n",
       "  </thead>\n",
       "  <tbody>\n",
       "    <tr>\n",
       "      <th>0</th>\n",
       "      <td>2774568</td>\n",
       "      <td>3</td>\n",
       "      <td>13</td>\n",
       "      <td>5</td>\n",
       "      <td>15</td>\n",
       "      <td>11.0</td>\n",
       "      <td>38596</td>\n",
       "    </tr>\n",
       "    <tr>\n",
       "      <th>1</th>\n",
       "      <td>2774568</td>\n",
       "      <td>3</td>\n",
       "      <td>13</td>\n",
       "      <td>5</td>\n",
       "      <td>15</td>\n",
       "      <td>11.0</td>\n",
       "      <td>21903</td>\n",
       "    </tr>\n",
       "    <tr>\n",
       "      <th>2</th>\n",
       "      <td>2774568</td>\n",
       "      <td>3</td>\n",
       "      <td>13</td>\n",
       "      <td>5</td>\n",
       "      <td>15</td>\n",
       "      <td>11.0</td>\n",
       "      <td>248</td>\n",
       "    </tr>\n",
       "    <tr>\n",
       "      <th>3</th>\n",
       "      <td>2774568</td>\n",
       "      <td>3</td>\n",
       "      <td>13</td>\n",
       "      <td>5</td>\n",
       "      <td>15</td>\n",
       "      <td>11.0</td>\n",
       "      <td>40604</td>\n",
       "    </tr>\n",
       "    <tr>\n",
       "      <th>4</th>\n",
       "      <td>2774568</td>\n",
       "      <td>3</td>\n",
       "      <td>13</td>\n",
       "      <td>5</td>\n",
       "      <td>15</td>\n",
       "      <td>11.0</td>\n",
       "      <td>8021</td>\n",
       "    </tr>\n",
       "  </tbody>\n",
       "</table>\n",
       "</div>"
      ],
      "text/plain": [
       "   order_id  user_id  order_number  order_dow  order_hour_of_day  \\\n",
       "0   2774568        3            13          5                 15   \n",
       "1   2774568        3            13          5                 15   \n",
       "2   2774568        3            13          5                 15   \n",
       "3   2774568        3            13          5                 15   \n",
       "4   2774568        3            13          5                 15   \n",
       "\n",
       "   days_since_prior_order product_id  \n",
       "0                    11.0      38596  \n",
       "1                    11.0      21903  \n",
       "2                    11.0        248  \n",
       "3                    11.0      40604  \n",
       "4                    11.0       8021  "
      ]
     },
     "execution_count": 9,
     "metadata": {},
     "output_type": "execute_result"
    }
   ],
   "source": [
    "test_order = orders[orders.eval_set=='test']\n",
    "test_order = test_order.drop(['eval_set'],axis=1)\n",
    "#prior_data = prior_data[prior_data.reordered==1]\n",
    "temp = prior_data[['user_id','product_id']].drop_duplicates()\n",
    "test_data = test_order.merge(temp,on='user_id')\n",
    "test_data.head()"
   ]
  },
  {
   "cell_type": "code",
   "execution_count": 10,
   "metadata": {},
   "outputs": [
    {
     "data": {
      "text/plain": [
       "(4908292, 7)"
      ]
     },
     "execution_count": 10,
     "metadata": {},
     "output_type": "execute_result"
    }
   ],
   "source": [
    "test_data.shape"
   ]
  },
  {
   "cell_type": "code",
   "execution_count": 11,
   "metadata": {},
   "outputs": [],
   "source": [
    "test_data.order_dow = test_data.order_dow.astype(np.int8)\n",
    "test_data.order_hour_of_day = test_data.order_hour_of_day.astype(np.int8)\n",
    "test_data.order_number = test_data.order_number.astype(np.int8)\n",
    "test_data.days_since_prior_order = test_data.days_since_prior_order.astype(np.int8)"
   ]
  },
  {
   "cell_type": "code",
   "execution_count": 12,
   "metadata": {},
   "outputs": [],
   "source": [
    "test_data['cos_cyclic_hour'] = np.cos((2*np.pi*test_data.order_hour_of_day)/24).astype(np.float16)\n",
    "test_data['sin_cyclic_hour'] = np.sin((2*np.pi*test_data.order_hour_of_day)/24).astype(np.float16)\n",
    "test_data['cos_cyclic_day']  = np.cos((2*np.pi*test_data.order_dow)/7).astype(np.float32)\n",
    "test_data['sin_cyclic_day']  = np.sin((2*np.pi*test_data.order_dow)/7).astype(np.float32)"
   ]
  },
  {
   "cell_type": "code",
   "execution_count": 13,
   "metadata": {},
   "outputs": [],
   "source": [
    "day_prior_ratio = pickle.load(open('day_prior_ratio.pkl','rb'))\n",
    "hour_ratio      = pickle.load(open('hour_of_week.pkl','rb'))\n",
    "day_week_ratio  = pickle.load(open('day_of_week.pkl','rb'))\n",
    "user_product    = pickle.load(open('user_product_ratio.pkl','rb'))\n",
    "product_day_week_ratio  = pickle.load(open('product_day_week_ratio.pkl','rb'))\n",
    "product_hour_ratio=pickle.load(open('product_hour_ratio.pkl','rb'))\n",
    "user_day_ratio  = pickle.load(open('user_day_ratio.pkl','rb'))  \n",
    "user_hour_ratio = pickle.load(open('user_hour_ratio.pkl','rb'))\n",
    "user_since_product = pickle.load(open('user_since_product.pkl','rb'))\n",
    "user_times_product = pickle.load(open('user_times_product.pkl','rb'))"
   ]
  },
  {
   "cell_type": "code",
   "execution_count": 14,
   "metadata": {},
   "outputs": [],
   "source": [
    "test_data = test_data.merge(day_prior_ratio,on='days_since_prior_order')"
   ]
  },
  {
   "cell_type": "code",
   "execution_count": 15,
   "metadata": {},
   "outputs": [],
   "source": [
    "test_data = test_data.merge(hour_ratio,on='order_hour_of_day')"
   ]
  },
  {
   "cell_type": "code",
   "execution_count": 16,
   "metadata": {},
   "outputs": [],
   "source": [
    "test_data = test_data.merge(product_hour_ratio,on=['product_id','order_hour_of_day'],how='left')"
   ]
  },
  {
   "cell_type": "code",
   "execution_count": 17,
   "metadata": {},
   "outputs": [],
   "source": [
    "test_data = test_data.merge(day_week_ratio,on='order_dow')"
   ]
  },
  {
   "cell_type": "code",
   "execution_count": 18,
   "metadata": {},
   "outputs": [],
   "source": [
    "test_data = test_data.merge(product_day_week_ratio,on=['product_id','order_dow'],how='left')"
   ]
  },
  {
   "cell_type": "code",
   "execution_count": 19,
   "metadata": {},
   "outputs": [],
   "source": [
    "test_data = test_data.merge(user_product,on=['user_id','product_id'],how='left').fillna(0)"
   ]
  },
  {
   "cell_type": "code",
   "execution_count": 20,
   "metadata": {},
   "outputs": [],
   "source": [
    "test_data = test_data.merge(user_day_ratio,on=['user_id','order_dow'],how='left')"
   ]
  },
  {
   "cell_type": "code",
   "execution_count": 21,
   "metadata": {},
   "outputs": [],
   "source": [
    "test_data = test_data.merge(user_hour_ratio,on=['user_id','order_hour_of_day'],how='left')"
   ]
  },
  {
   "cell_type": "code",
   "execution_count": 22,
   "metadata": {},
   "outputs": [],
   "source": [
    "test_data = test_data.merge(user_since_product,on=['user_id','product_id'],how='left')"
   ]
  },
  {
   "cell_type": "code",
   "execution_count": 23,
   "metadata": {},
   "outputs": [],
   "source": [
    "test_data = test_data.merge(user_times_product,on=['user_id','product_id'],how='left')"
   ]
  },
  {
   "cell_type": "code",
   "execution_count": 24,
   "metadata": {},
   "outputs": [
    {
     "data": {
      "text/plain": [
       "order_id                        0\n",
       "user_id                         0\n",
       "order_number                    0\n",
       "order_dow                       0\n",
       "order_hour_of_day               0\n",
       "days_since_prior_order          0\n",
       "product_id                      0\n",
       "cos_cyclic_hour                 0\n",
       "sin_cyclic_hour                 0\n",
       "cos_cyclic_day                  0\n",
       "sin_cyclic_day                  0\n",
       "daypriorratio                   0\n",
       "hod_ratio                       0\n",
       "product_hour_ratio              0\n",
       "dow_ratio                       0\n",
       "product_day_ratio               0\n",
       "user_product_ratio              0\n",
       "user_day_ratio             684510\n",
       "user_hour_ratio           1516943\n",
       "since_order_product         75000\n",
       "user_times_product        2899174\n",
       "dtype: int64"
      ]
     },
     "execution_count": 24,
     "metadata": {},
     "output_type": "execute_result"
    }
   ],
   "source": [
    "test_data.isna().sum()"
   ]
  },
  {
   "cell_type": "code",
   "execution_count": 25,
   "metadata": {},
   "outputs": [],
   "source": [
    "test_data = test_data.fillna(0)"
   ]
  },
  {
   "cell_type": "code",
   "execution_count": 26,
   "metadata": {},
   "outputs": [
    {
     "name": "stderr",
     "output_type": "stream",
     "text": [
      "100%|█████████████████████████████████████████████████████████████████████| 4908292/4908292 [05:06<00:00, 16000.88it/s]\n"
     ]
    }
   ],
   "source": [
    "pro_pro = []\n",
    "for i in tqdm(range(len(test_data))):\n",
    "    if test_data.loc[i,'since_order_product']==0:\n",
    "        pro_pro.append(test_data.loc[i,'days_since_prior_order'])\n",
    "    else:\n",
    "        pro_pro.append(test_data.loc[i,'since_order_product'])\n",
    "test_data['pro_pro'] = pro_pro"
   ]
  },
  {
   "cell_type": "markdown",
   "metadata": {},
   "source": [
    "-> These weighted features are referenced from https://github.com/alexanderrich/instacart-analysis/blob/master/preprocess.py"
   ]
  },
  {
   "cell_type": "code",
   "execution_count": 27,
   "metadata": {},
   "outputs": [],
   "source": [
    "test_data['weight7days_sin_since_product'] = (1.01 + np.sin(2*np.pi*(test_data['pro_pro']/7)))/2\n",
    "test_data['weight7days_cos_since_product'] = (1.01 + np.cos(2*np.pi*(test_data['pro_pro']/7)))/2"
   ]
  },
  {
   "cell_type": "code",
   "execution_count": 28,
   "metadata": {},
   "outputs": [],
   "source": [
    "test_data['weight14days_sin_since_product'] = (1.01 + np.sin(2*np.pi*(test_data['pro_pro']/14)))/2\n",
    "test_data['weight14days_cos_since_product'] = (1.01 + np.cos(2*np.pi*(test_data['pro_pro']/14)))/2"
   ]
  },
  {
   "cell_type": "code",
   "execution_count": 29,
   "metadata": {},
   "outputs": [],
   "source": [
    "test_data['weight30days_sin_since_product'] = (1.01 + np.sin(2*np.pi*(test_data['pro_pro']/30)))/2\n",
    "test_data['weight30days_cos_since_product'] = (1.01 + np.cos(2*np.pi*(test_data['pro_pro']/30)))/2"
   ]
  },
  {
   "cell_type": "code",
   "execution_count": 30,
   "metadata": {},
   "outputs": [],
   "source": [
    "test_data = test_data.drop(['pro_pro'],axis=1)"
   ]
  },
  {
   "cell_type": "code",
   "execution_count": 31,
   "metadata": {},
   "outputs": [
    {
     "data": {
      "text/plain": [
       "((4908292, 27),\n",
       " (4908292, 27),\n",
       " order_id                          0\n",
       " user_id                           0\n",
       " order_number                      0\n",
       " order_dow                         0\n",
       " order_hour_of_day                 0\n",
       " days_since_prior_order            0\n",
       " product_id                        0\n",
       " cos_cyclic_hour                   0\n",
       " sin_cyclic_hour                   0\n",
       " cos_cyclic_day                    0\n",
       " sin_cyclic_day                    0\n",
       " daypriorratio                     0\n",
       " hod_ratio                         0\n",
       " product_hour_ratio                0\n",
       " dow_ratio                         0\n",
       " product_day_ratio                 0\n",
       " user_product_ratio                0\n",
       " user_day_ratio                    0\n",
       " user_hour_ratio                   0\n",
       " since_order_product               0\n",
       " user_times_product                0\n",
       " weight7days_sin_since_product     0\n",
       " weight7days_cos_since_product     0\n",
       " weight14days_sin_since_product    0\n",
       " weight14days_cos_since_product    0\n",
       " weight30days_sin_since_product    0\n",
       " weight30days_cos_since_product    0\n",
       " dtype: int64)"
      ]
     },
     "execution_count": 31,
     "metadata": {},
     "output_type": "execute_result"
    }
   ],
   "source": [
    "test_data.shape,test_data.drop_duplicates().shape,test_data.isna().sum()"
   ]
  },
  {
   "cell_type": "code",
   "execution_count": 32,
   "metadata": {},
   "outputs": [],
   "source": [
    "products = pickle.load(open('products_pca.pkl','rb'))"
   ]
  },
  {
   "cell_type": "code",
   "execution_count": 33,
   "metadata": {},
   "outputs": [],
   "source": [
    "col = ['pca'+str(i) for i in range(0,30)]\n",
    "products[col] = products[col].astype(np.float32)"
   ]
  },
  {
   "cell_type": "code",
   "execution_count": 34,
   "metadata": {},
   "outputs": [],
   "source": [
    "test_data = test_data.merge(products,on='product_id')"
   ]
  },
  {
   "cell_type": "code",
   "execution_count": 35,
   "metadata": {},
   "outputs": [
    {
     "data": {
      "text/plain": [
       "(4908292, 57)"
      ]
     },
     "execution_count": 35,
     "metadata": {},
     "output_type": "execute_result"
    }
   ],
   "source": [
    "test_data.shape"
   ]
  },
  {
   "cell_type": "code",
   "execution_count": 36,
   "metadata": {},
   "outputs": [
    {
     "data": {
      "text/plain": [
       "1592161624"
      ]
     },
     "execution_count": 36,
     "metadata": {},
     "output_type": "execute_result"
    }
   ],
   "source": [
    "sys.getsizeof(test_data)"
   ]
  },
  {
   "cell_type": "code",
   "execution_count": 37,
   "metadata": {},
   "outputs": [
    {
     "data": {
      "text/plain": [
       "0"
      ]
     },
     "execution_count": 37,
     "metadata": {},
     "output_type": "execute_result"
    }
   ],
   "source": [
    "test_data.isna().sum().sum()"
   ]
  },
  {
   "cell_type": "code",
   "execution_count": 38,
   "metadata": {},
   "outputs": [],
   "source": [
    "pickle.dump(test_data,open('test_data_2.pkl','wb'))"
   ]
  },
  {
   "cell_type": "code",
   "execution_count": 39,
   "metadata": {},
   "outputs": [
    {
     "data": {
      "text/html": [
       "<div>\n",
       "<style scoped>\n",
       "    .dataframe tbody tr th:only-of-type {\n",
       "        vertical-align: middle;\n",
       "    }\n",
       "\n",
       "    .dataframe tbody tr th {\n",
       "        vertical-align: top;\n",
       "    }\n",
       "\n",
       "    .dataframe thead th {\n",
       "        text-align: right;\n",
       "    }\n",
       "</style>\n",
       "<table border=\"1\" class=\"dataframe\">\n",
       "  <thead>\n",
       "    <tr style=\"text-align: right;\">\n",
       "      <th></th>\n",
       "      <th>order_id</th>\n",
       "      <th>user_id</th>\n",
       "      <th>order_number</th>\n",
       "      <th>order_dow</th>\n",
       "      <th>order_hour_of_day</th>\n",
       "      <th>days_since_prior_order</th>\n",
       "      <th>product_id</th>\n",
       "      <th>cos_cyclic_hour</th>\n",
       "      <th>sin_cyclic_hour</th>\n",
       "      <th>cos_cyclic_day</th>\n",
       "      <th>...</th>\n",
       "      <th>pca20</th>\n",
       "      <th>pca21</th>\n",
       "      <th>pca22</th>\n",
       "      <th>pca23</th>\n",
       "      <th>pca24</th>\n",
       "      <th>pca25</th>\n",
       "      <th>pca26</th>\n",
       "      <th>pca27</th>\n",
       "      <th>pca28</th>\n",
       "      <th>pca29</th>\n",
       "    </tr>\n",
       "  </thead>\n",
       "  <tbody>\n",
       "    <tr>\n",
       "      <th>0</th>\n",
       "      <td>2774568</td>\n",
       "      <td>3</td>\n",
       "      <td>13</td>\n",
       "      <td>5</td>\n",
       "      <td>15</td>\n",
       "      <td>11</td>\n",
       "      <td>38596</td>\n",
       "      <td>-0.707031</td>\n",
       "      <td>-0.707031</td>\n",
       "      <td>-0.222521</td>\n",
       "      <td>...</td>\n",
       "      <td>0.074506</td>\n",
       "      <td>-0.20952</td>\n",
       "      <td>-0.038164</td>\n",
       "      <td>-0.378667</td>\n",
       "      <td>0.061468</td>\n",
       "      <td>0.142431</td>\n",
       "      <td>-0.408706</td>\n",
       "      <td>-0.063899</td>\n",
       "      <td>0.042757</td>\n",
       "      <td>-0.063335</td>\n",
       "    </tr>\n",
       "    <tr>\n",
       "      <th>1</th>\n",
       "      <td>1939102</td>\n",
       "      <td>142779</td>\n",
       "      <td>10</td>\n",
       "      <td>5</td>\n",
       "      <td>15</td>\n",
       "      <td>11</td>\n",
       "      <td>38596</td>\n",
       "      <td>-0.707031</td>\n",
       "      <td>-0.707031</td>\n",
       "      <td>-0.222521</td>\n",
       "      <td>...</td>\n",
       "      <td>0.074506</td>\n",
       "      <td>-0.20952</td>\n",
       "      <td>-0.038164</td>\n",
       "      <td>-0.378667</td>\n",
       "      <td>0.061468</td>\n",
       "      <td>0.142431</td>\n",
       "      <td>-0.408706</td>\n",
       "      <td>-0.063899</td>\n",
       "      <td>0.042757</td>\n",
       "      <td>-0.063335</td>\n",
       "    </tr>\n",
       "    <tr>\n",
       "      <th>2</th>\n",
       "      <td>27716</td>\n",
       "      <td>67585</td>\n",
       "      <td>11</td>\n",
       "      <td>5</td>\n",
       "      <td>15</td>\n",
       "      <td>30</td>\n",
       "      <td>38596</td>\n",
       "      <td>-0.707031</td>\n",
       "      <td>-0.707031</td>\n",
       "      <td>-0.222521</td>\n",
       "      <td>...</td>\n",
       "      <td>0.074506</td>\n",
       "      <td>-0.20952</td>\n",
       "      <td>-0.038164</td>\n",
       "      <td>-0.378667</td>\n",
       "      <td>0.061468</td>\n",
       "      <td>0.142431</td>\n",
       "      <td>-0.408706</td>\n",
       "      <td>-0.063899</td>\n",
       "      <td>0.042757</td>\n",
       "      <td>-0.063335</td>\n",
       "    </tr>\n",
       "    <tr>\n",
       "      <th>3</th>\n",
       "      <td>2384010</td>\n",
       "      <td>138835</td>\n",
       "      <td>15</td>\n",
       "      <td>5</td>\n",
       "      <td>15</td>\n",
       "      <td>30</td>\n",
       "      <td>38596</td>\n",
       "      <td>-0.707031</td>\n",
       "      <td>-0.707031</td>\n",
       "      <td>-0.222521</td>\n",
       "      <td>...</td>\n",
       "      <td>0.074506</td>\n",
       "      <td>-0.20952</td>\n",
       "      <td>-0.038164</td>\n",
       "      <td>-0.378667</td>\n",
       "      <td>0.061468</td>\n",
       "      <td>0.142431</td>\n",
       "      <td>-0.408706</td>\n",
       "      <td>-0.063899</td>\n",
       "      <td>0.042757</td>\n",
       "      <td>-0.063335</td>\n",
       "    </tr>\n",
       "    <tr>\n",
       "      <th>4</th>\n",
       "      <td>597107</td>\n",
       "      <td>64953</td>\n",
       "      <td>27</td>\n",
       "      <td>5</td>\n",
       "      <td>15</td>\n",
       "      <td>8</td>\n",
       "      <td>38596</td>\n",
       "      <td>-0.707031</td>\n",
       "      <td>-0.707031</td>\n",
       "      <td>-0.222521</td>\n",
       "      <td>...</td>\n",
       "      <td>0.074506</td>\n",
       "      <td>-0.20952</td>\n",
       "      <td>-0.038164</td>\n",
       "      <td>-0.378667</td>\n",
       "      <td>0.061468</td>\n",
       "      <td>0.142431</td>\n",
       "      <td>-0.408706</td>\n",
       "      <td>-0.063899</td>\n",
       "      <td>0.042757</td>\n",
       "      <td>-0.063335</td>\n",
       "    </tr>\n",
       "  </tbody>\n",
       "</table>\n",
       "<p>5 rows × 57 columns</p>\n",
       "</div>"
      ],
      "text/plain": [
       "   order_id  user_id  order_number  order_dow  order_hour_of_day  \\\n",
       "0   2774568        3            13          5                 15   \n",
       "1   1939102   142779            10          5                 15   \n",
       "2     27716    67585            11          5                 15   \n",
       "3   2384010   138835            15          5                 15   \n",
       "4    597107    64953            27          5                 15   \n",
       "\n",
       "   days_since_prior_order product_id  cos_cyclic_hour  sin_cyclic_hour  \\\n",
       "0                      11      38596        -0.707031        -0.707031   \n",
       "1                      11      38596        -0.707031        -0.707031   \n",
       "2                      30      38596        -0.707031        -0.707031   \n",
       "3                      30      38596        -0.707031        -0.707031   \n",
       "4                       8      38596        -0.707031        -0.707031   \n",
       "\n",
       "   cos_cyclic_day  ...     pca20    pca21     pca22     pca23     pca24  \\\n",
       "0       -0.222521  ...  0.074506 -0.20952 -0.038164 -0.378667  0.061468   \n",
       "1       -0.222521  ...  0.074506 -0.20952 -0.038164 -0.378667  0.061468   \n",
       "2       -0.222521  ...  0.074506 -0.20952 -0.038164 -0.378667  0.061468   \n",
       "3       -0.222521  ...  0.074506 -0.20952 -0.038164 -0.378667  0.061468   \n",
       "4       -0.222521  ...  0.074506 -0.20952 -0.038164 -0.378667  0.061468   \n",
       "\n",
       "      pca25     pca26     pca27     pca28     pca29  \n",
       "0  0.142431 -0.408706 -0.063899  0.042757 -0.063335  \n",
       "1  0.142431 -0.408706 -0.063899  0.042757 -0.063335  \n",
       "2  0.142431 -0.408706 -0.063899  0.042757 -0.063335  \n",
       "3  0.142431 -0.408706 -0.063899  0.042757 -0.063335  \n",
       "4  0.142431 -0.408706 -0.063899  0.042757 -0.063335  \n",
       "\n",
       "[5 rows x 57 columns]"
      ]
     },
     "execution_count": 39,
     "metadata": {},
     "output_type": "execute_result"
    }
   ],
   "source": [
    "test_data.head()"
   ]
  },
  {
   "cell_type": "code",
   "execution_count": null,
   "metadata": {},
   "outputs": [],
   "source": []
  }
 ],
 "metadata": {
  "kernelspec": {
   "display_name": "base",
   "language": "python",
   "name": "python3"
  },
  "language_info": {
   "codemirror_mode": {
    "name": "ipython",
    "version": 3
   },
   "file_extension": ".py",
   "mimetype": "text/x-python",
   "name": "python",
   "nbconvert_exporter": "python",
   "pygments_lexer": "ipython3",
   "version": "3.9.13"
  },
  "vscode": {
   "interpreter": {
    "hash": "ad2bdc8ecc057115af97d19610ffacc2b4e99fae6737bb82f5d7fb13d2f2c186"
   }
  }
 },
 "nbformat": 4,
 "nbformat_minor": 4
}
